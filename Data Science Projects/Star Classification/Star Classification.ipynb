{
 "cells": [
  {
   "cell_type": "code",
   "execution_count": 1,
   "id": "b383f9bd",
   "metadata": {},
   "outputs": [],
   "source": [
    "import numpy as np\n",
    "import seaborn as sns\n",
    "import matplotlib.pyplot as plt\n",
    "import pandas as pd\n",
    "from collections import Counter\n",
    "from imblearn.over_sampling import SMOTE \n",
    "from sklearn.ensemble import RandomForestClassifier\n",
    "from sklearn import svm\n",
    "from sklearn.neighbors import KNeighborsClassifier\n",
    "from sklearn.metrics import confusion_matrix\n",
    "from sklearn.model_selection import train_test_split"
   ]
  },
  {
   "cell_type": "markdown",
   "id": "3cadec53",
   "metadata": {},
   "source": [
    "Data is imported from http://skyserver.sdss.org/dr16/en/tools/search/sql.aspx using SQL query\n",
    "\n",
    "Variables: \n",
    "- objid - object id\n",
    "- ra - Right Ascension\n",
    "- dec - Declination\n",
    "- u - u-band\n",
    "- g - g-band\n",
    "- r - r-band\n",
    "- i - i-band\n",
    "- z - z-band\n",
    "- run - Run Number\n",
    "- rerun - Rerun Number\n",
    "- camcol - Camera column\n",
    "- field - Field number\n",
    "- specobjid - Object Identifier\n",
    "- class - object class (galaxy, star or quasar object)\n",
    "- redshift - Final Redshift\n",
    "- plate - plate number\n",
    "- mjd - Median Julian Date of observation\n",
    "- fiberid - fiberID"
   ]
  },
  {
   "cell_type": "code",
   "execution_count": 2,
   "id": "dbb8abf7",
   "metadata": {},
   "outputs": [],
   "source": [
    "df = pd.read_csv('sdss16.csv',header=1)"
   ]
  },
  {
   "cell_type": "code",
   "execution_count": 3,
   "id": "9273bff3",
   "metadata": {},
   "outputs": [
    {
     "data": {
      "text/html": [
       "<div>\n",
       "<style scoped>\n",
       "    .dataframe tbody tr th:only-of-type {\n",
       "        vertical-align: middle;\n",
       "    }\n",
       "\n",
       "    .dataframe tbody tr th {\n",
       "        vertical-align: top;\n",
       "    }\n",
       "\n",
       "    .dataframe thead th {\n",
       "        text-align: right;\n",
       "    }\n",
       "</style>\n",
       "<table border=\"1\" class=\"dataframe\">\n",
       "  <thead>\n",
       "    <tr style=\"text-align: right;\">\n",
       "      <th></th>\n",
       "      <th>objid</th>\n",
       "      <th>ra</th>\n",
       "      <th>dec</th>\n",
       "      <th>u</th>\n",
       "      <th>g</th>\n",
       "      <th>r</th>\n",
       "      <th>i</th>\n",
       "      <th>z</th>\n",
       "      <th>run</th>\n",
       "      <th>rerun</th>\n",
       "      <th>camcol</th>\n",
       "      <th>field</th>\n",
       "      <th>specobjid</th>\n",
       "      <th>class</th>\n",
       "      <th>redshift</th>\n",
       "      <th>plate</th>\n",
       "      <th>mjd</th>\n",
       "      <th>fiberid</th>\n",
       "    </tr>\n",
       "  </thead>\n",
       "  <tbody>\n",
       "    <tr>\n",
       "      <th>0</th>\n",
       "      <td>1237678877245244171</td>\n",
       "      <td>318.951692</td>\n",
       "      <td>9.315146</td>\n",
       "      <td>19.51665</td>\n",
       "      <td>18.50036</td>\n",
       "      <td>17.95667</td>\n",
       "      <td>17.53139</td>\n",
       "      <td>17.32035</td>\n",
       "      <td>7777</td>\n",
       "      <td>301</td>\n",
       "      <td>5</td>\n",
       "      <td>53</td>\n",
       "      <td>819657923239110656</td>\n",
       "      <td>GALAXY</td>\n",
       "      <td>0.114299</td>\n",
       "      <td>728</td>\n",
       "      <td>52520</td>\n",
       "      <td>10</td>\n",
       "    </tr>\n",
       "    <tr>\n",
       "      <th>1</th>\n",
       "      <td>1237668332026986542</td>\n",
       "      <td>217.940001</td>\n",
       "      <td>14.608378</td>\n",
       "      <td>19.13548</td>\n",
       "      <td>18.55482</td>\n",
       "      <td>17.95603</td>\n",
       "      <td>17.68272</td>\n",
       "      <td>17.63717</td>\n",
       "      <td>5322</td>\n",
       "      <td>301</td>\n",
       "      <td>3</td>\n",
       "      <td>56</td>\n",
       "      <td>6154252554903769088</td>\n",
       "      <td>QSO</td>\n",
       "      <td>1.802680</td>\n",
       "      <td>5466</td>\n",
       "      <td>56033</td>\n",
       "      <td>304</td>\n",
       "    </tr>\n",
       "    <tr>\n",
       "      <th>2</th>\n",
       "      <td>1237664092899115053</td>\n",
       "      <td>129.948221</td>\n",
       "      <td>25.213328</td>\n",
       "      <td>19.54955</td>\n",
       "      <td>18.19434</td>\n",
       "      <td>17.83220</td>\n",
       "      <td>17.51329</td>\n",
       "      <td>17.47054</td>\n",
       "      <td>4335</td>\n",
       "      <td>301</td>\n",
       "      <td>3</td>\n",
       "      <td>130</td>\n",
       "      <td>2173034979993348096</td>\n",
       "      <td>GALAXY</td>\n",
       "      <td>0.070813</td>\n",
       "      <td>1930</td>\n",
       "      <td>53347</td>\n",
       "      <td>175</td>\n",
       "    </tr>\n",
       "    <tr>\n",
       "      <th>3</th>\n",
       "      <td>1237654604252119048</td>\n",
       "      <td>160.357788</td>\n",
       "      <td>3.567886</td>\n",
       "      <td>17.72343</td>\n",
       "      <td>16.65830</td>\n",
       "      <td>16.23667</td>\n",
       "      <td>16.07098</td>\n",
       "      <td>16.02797</td>\n",
       "      <td>2126</td>\n",
       "      <td>301</td>\n",
       "      <td>1</td>\n",
       "      <td>275</td>\n",
       "      <td>649647859372681216</td>\n",
       "      <td>STAR</td>\n",
       "      <td>0.000570</td>\n",
       "      <td>577</td>\n",
       "      <td>52367</td>\n",
       "      <td>13</td>\n",
       "    </tr>\n",
       "    <tr>\n",
       "      <th>4</th>\n",
       "      <td>1237661360769400880</td>\n",
       "      <td>226.001700</td>\n",
       "      <td>38.619699</td>\n",
       "      <td>16.60500</td>\n",
       "      <td>15.66234</td>\n",
       "      <td>15.39406</td>\n",
       "      <td>15.29443</td>\n",
       "      <td>15.29302</td>\n",
       "      <td>3699</td>\n",
       "      <td>301</td>\n",
       "      <td>2</td>\n",
       "      <td>227</td>\n",
       "      <td>5817649714997514240</td>\n",
       "      <td>STAR</td>\n",
       "      <td>-0.000184</td>\n",
       "      <td>5167</td>\n",
       "      <td>56066</td>\n",
       "      <td>454</td>\n",
       "    </tr>\n",
       "    <tr>\n",
       "      <th>...</th>\n",
       "      <td>...</td>\n",
       "      <td>...</td>\n",
       "      <td>...</td>\n",
       "      <td>...</td>\n",
       "      <td>...</td>\n",
       "      <td>...</td>\n",
       "      <td>...</td>\n",
       "      <td>...</td>\n",
       "      <td>...</td>\n",
       "      <td>...</td>\n",
       "      <td>...</td>\n",
       "      <td>...</td>\n",
       "      <td>...</td>\n",
       "      <td>...</td>\n",
       "      <td>...</td>\n",
       "      <td>...</td>\n",
       "      <td>...</td>\n",
       "      <td>...</td>\n",
       "    </tr>\n",
       "    <tr>\n",
       "      <th>499995</th>\n",
       "      <td>1237661069255639209</td>\n",
       "      <td>167.169668</td>\n",
       "      <td>13.963371</td>\n",
       "      <td>18.33024</td>\n",
       "      <td>17.41838</td>\n",
       "      <td>17.14917</td>\n",
       "      <td>17.03306</td>\n",
       "      <td>16.99625</td>\n",
       "      <td>3631</td>\n",
       "      <td>301</td>\n",
       "      <td>3</td>\n",
       "      <td>336</td>\n",
       "      <td>1972663829775017984</td>\n",
       "      <td>GALAXY</td>\n",
       "      <td>0.025480</td>\n",
       "      <td>1752</td>\n",
       "      <td>53379</td>\n",
       "      <td>317</td>\n",
       "    </tr>\n",
       "    <tr>\n",
       "      <th>499996</th>\n",
       "      <td>1237665565001187348</td>\n",
       "      <td>225.558331</td>\n",
       "      <td>18.500700</td>\n",
       "      <td>18.73732</td>\n",
       "      <td>17.22944</td>\n",
       "      <td>16.58573</td>\n",
       "      <td>16.36947</td>\n",
       "      <td>16.26186</td>\n",
       "      <td>4678</td>\n",
       "      <td>301</td>\n",
       "      <td>1</td>\n",
       "      <td>161</td>\n",
       "      <td>3143591231423014912</td>\n",
       "      <td>STAR</td>\n",
       "      <td>-0.000060</td>\n",
       "      <td>2792</td>\n",
       "      <td>54556</td>\n",
       "      <td>286</td>\n",
       "    </tr>\n",
       "    <tr>\n",
       "      <th>499997</th>\n",
       "      <td>1237659119323119750</td>\n",
       "      <td>215.473064</td>\n",
       "      <td>50.610086</td>\n",
       "      <td>19.57830</td>\n",
       "      <td>18.01280</td>\n",
       "      <td>17.32779</td>\n",
       "      <td>16.90973</td>\n",
       "      <td>16.66470</td>\n",
       "      <td>3177</td>\n",
       "      <td>301</td>\n",
       "      <td>3</td>\n",
       "      <td>71</td>\n",
       "      <td>1177785077195630592</td>\n",
       "      <td>GALAXY</td>\n",
       "      <td>0.077123</td>\n",
       "      <td>1046</td>\n",
       "      <td>52460</td>\n",
       "      <td>341</td>\n",
       "    </tr>\n",
       "    <tr>\n",
       "      <th>499998</th>\n",
       "      <td>1237659119336554740</td>\n",
       "      <td>248.658281</td>\n",
       "      <td>31.979162</td>\n",
       "      <td>18.01998</td>\n",
       "      <td>16.62829</td>\n",
       "      <td>15.93923</td>\n",
       "      <td>15.56417</td>\n",
       "      <td>15.33296</td>\n",
       "      <td>3177</td>\n",
       "      <td>301</td>\n",
       "      <td>3</td>\n",
       "      <td>276</td>\n",
       "      <td>1508818621768427520</td>\n",
       "      <td>GALAXY</td>\n",
       "      <td>0.085555</td>\n",
       "      <td>1340</td>\n",
       "      <td>52781</td>\n",
       "      <td>410</td>\n",
       "    </tr>\n",
       "    <tr>\n",
       "      <th>499999</th>\n",
       "      <td>1237666245222334911</td>\n",
       "      <td>340.762673</td>\n",
       "      <td>23.223999</td>\n",
       "      <td>19.52488</td>\n",
       "      <td>18.49007</td>\n",
       "      <td>18.17759</td>\n",
       "      <td>18.08805</td>\n",
       "      <td>18.09996</td>\n",
       "      <td>4836</td>\n",
       "      <td>301</td>\n",
       "      <td>4</td>\n",
       "      <td>248</td>\n",
       "      <td>7101254226211524608</td>\n",
       "      <td>STAR</td>\n",
       "      <td>-0.000816</td>\n",
       "      <td>6307</td>\n",
       "      <td>56205</td>\n",
       "      <td>740</td>\n",
       "    </tr>\n",
       "  </tbody>\n",
       "</table>\n",
       "<p>500000 rows × 18 columns</p>\n",
       "</div>"
      ],
      "text/plain": [
       "                      objid          ra        dec         u         g  \\\n",
       "0       1237678877245244171  318.951692   9.315146  19.51665  18.50036   \n",
       "1       1237668332026986542  217.940001  14.608378  19.13548  18.55482   \n",
       "2       1237664092899115053  129.948221  25.213328  19.54955  18.19434   \n",
       "3       1237654604252119048  160.357788   3.567886  17.72343  16.65830   \n",
       "4       1237661360769400880  226.001700  38.619699  16.60500  15.66234   \n",
       "...                     ...         ...        ...       ...       ...   \n",
       "499995  1237661069255639209  167.169668  13.963371  18.33024  17.41838   \n",
       "499996  1237665565001187348  225.558331  18.500700  18.73732  17.22944   \n",
       "499997  1237659119323119750  215.473064  50.610086  19.57830  18.01280   \n",
       "499998  1237659119336554740  248.658281  31.979162  18.01998  16.62829   \n",
       "499999  1237666245222334911  340.762673  23.223999  19.52488  18.49007   \n",
       "\n",
       "               r         i         z   run  rerun  camcol  field  \\\n",
       "0       17.95667  17.53139  17.32035  7777    301       5     53   \n",
       "1       17.95603  17.68272  17.63717  5322    301       3     56   \n",
       "2       17.83220  17.51329  17.47054  4335    301       3    130   \n",
       "3       16.23667  16.07098  16.02797  2126    301       1    275   \n",
       "4       15.39406  15.29443  15.29302  3699    301       2    227   \n",
       "...          ...       ...       ...   ...    ...     ...    ...   \n",
       "499995  17.14917  17.03306  16.99625  3631    301       3    336   \n",
       "499996  16.58573  16.36947  16.26186  4678    301       1    161   \n",
       "499997  17.32779  16.90973  16.66470  3177    301       3     71   \n",
       "499998  15.93923  15.56417  15.33296  3177    301       3    276   \n",
       "499999  18.17759  18.08805  18.09996  4836    301       4    248   \n",
       "\n",
       "                  specobjid   class  redshift  plate    mjd  fiberid  \n",
       "0        819657923239110656  GALAXY  0.114299    728  52520       10  \n",
       "1       6154252554903769088     QSO  1.802680   5466  56033      304  \n",
       "2       2173034979993348096  GALAXY  0.070813   1930  53347      175  \n",
       "3        649647859372681216    STAR  0.000570    577  52367       13  \n",
       "4       5817649714997514240    STAR -0.000184   5167  56066      454  \n",
       "...                     ...     ...       ...    ...    ...      ...  \n",
       "499995  1972663829775017984  GALAXY  0.025480   1752  53379      317  \n",
       "499996  3143591231423014912    STAR -0.000060   2792  54556      286  \n",
       "499997  1177785077195630592  GALAXY  0.077123   1046  52460      341  \n",
       "499998  1508818621768427520  GALAXY  0.085555   1340  52781      410  \n",
       "499999  7101254226211524608    STAR -0.000816   6307  56205      740  \n",
       "\n",
       "[500000 rows x 18 columns]"
      ]
     },
     "execution_count": 3,
     "metadata": {},
     "output_type": "execute_result"
    }
   ],
   "source": [
    "df"
   ]
  },
  {
   "cell_type": "code",
   "execution_count": 4,
   "id": "0153daa1",
   "metadata": {},
   "outputs": [],
   "source": [
    "df['class']=df['class'].replace(['GALAXY','STAR','QSO'],[0,1,2])"
   ]
  },
  {
   "cell_type": "code",
   "execution_count": 5,
   "id": "13b17e0c",
   "metadata": {},
   "outputs": [
    {
     "data": {
      "text/plain": [
       "0    252221\n",
       "1    193243\n",
       "2     54536\n",
       "Name: class, dtype: int64"
      ]
     },
     "execution_count": 5,
     "metadata": {},
     "output_type": "execute_result"
    }
   ],
   "source": [
    "df[\"class\"].value_counts()"
   ]
  },
  {
   "cell_type": "code",
   "execution_count": 6,
   "id": "616b0bf7",
   "metadata": {},
   "outputs": [
    {
     "data": {
      "image/png": "[encoded data removed]",
      "text/plain": [
       "<Figure size 864x576 with 2 Axes>"
      ]
     },
     "metadata": {
      "needs_background": "light"
     },
     "output_type": "display_data"
    }
   ],
   "source": [
    "f,ax = plt.subplots(figsize=(12,8))\n",
    "sns.heatmap(df.corr(), cmap=\"PuBu\", annot=True, linewidths=0.5, fmt= '.2f',ax=ax)\n",
    "plt.show()"
   ]
  },
  {
   "cell_type": "code",
   "execution_count": 7,
   "id": "4d82d6af",
   "metadata": {},
   "outputs": [
    {
     "data": {
      "text/plain": [
       "dec          0.000416\n",
       "camcol       0.004540\n",
       "i            0.020553\n",
       "z            0.025509\n",
       "field        0.035645\n",
       "ra           0.047054\n",
       "u            0.047885\n",
       "run          0.094200\n",
       "objid        0.094200\n",
       "fiberid      0.095822\n",
       "g            0.288252\n",
       "specobjid    0.394010\n",
       "plate        0.394010\n",
       "mjd          0.398974\n",
       "r            0.411350\n",
       "redshift     0.551195\n",
       "class        1.000000\n",
       "rerun             NaN\n",
       "Name: class, dtype: float64"
      ]
     },
     "execution_count": 7,
     "metadata": {},
     "output_type": "execute_result"
    }
   ],
   "source": [
    "corr=abs(df.corr())\n",
    "corr['class'].sort_values()"
   ]
  },
  {
   "cell_type": "code",
   "execution_count": 8,
   "id": "f50dcd61",
   "metadata": {},
   "outputs": [],
   "source": [
    "df=df[['g','specobjid','plate','mjd','r','redshift','class']]"
   ]
  },
  {
   "cell_type": "markdown",
   "id": "37968778",
   "metadata": {},
   "source": [
    "Above we find correlation between different variables and discard all the variables which are weakly correlated(<0.1) with 'class'"
   ]
  },
  {
   "cell_type": "code",
   "execution_count": 9,
   "id": "6ca181e5",
   "metadata": {},
   "outputs": [
    {
     "data": {
      "text/html": [
       "<div>\n",
       "<style scoped>\n",
       "    .dataframe tbody tr th:only-of-type {\n",
       "        vertical-align: middle;\n",
       "    }\n",
       "\n",
       "    .dataframe tbody tr th {\n",
       "        vertical-align: top;\n",
       "    }\n",
       "\n",
       "    .dataframe thead th {\n",
       "        text-align: right;\n",
       "    }\n",
       "</style>\n",
       "<table border=\"1\" class=\"dataframe\">\n",
       "  <thead>\n",
       "    <tr style=\"text-align: right;\">\n",
       "      <th></th>\n",
       "      <th>g</th>\n",
       "      <th>specobjid</th>\n",
       "      <th>plate</th>\n",
       "      <th>mjd</th>\n",
       "      <th>r</th>\n",
       "      <th>redshift</th>\n",
       "      <th>class</th>\n",
       "    </tr>\n",
       "  </thead>\n",
       "  <tbody>\n",
       "    <tr>\n",
       "      <th>0</th>\n",
       "      <td>18.50036</td>\n",
       "      <td>819657923239110656</td>\n",
       "      <td>728</td>\n",
       "      <td>52520</td>\n",
       "      <td>17.95667</td>\n",
       "      <td>0.114299</td>\n",
       "      <td>0</td>\n",
       "    </tr>\n",
       "    <tr>\n",
       "      <th>1</th>\n",
       "      <td>18.55482</td>\n",
       "      <td>6154252554903769088</td>\n",
       "      <td>5466</td>\n",
       "      <td>56033</td>\n",
       "      <td>17.95603</td>\n",
       "      <td>1.802680</td>\n",
       "      <td>2</td>\n",
       "    </tr>\n",
       "    <tr>\n",
       "      <th>2</th>\n",
       "      <td>18.19434</td>\n",
       "      <td>2173034979993348096</td>\n",
       "      <td>1930</td>\n",
       "      <td>53347</td>\n",
       "      <td>17.83220</td>\n",
       "      <td>0.070813</td>\n",
       "      <td>0</td>\n",
       "    </tr>\n",
       "    <tr>\n",
       "      <th>3</th>\n",
       "      <td>16.65830</td>\n",
       "      <td>649647859372681216</td>\n",
       "      <td>577</td>\n",
       "      <td>52367</td>\n",
       "      <td>16.23667</td>\n",
       "      <td>0.000570</td>\n",
       "      <td>1</td>\n",
       "    </tr>\n",
       "    <tr>\n",
       "      <th>4</th>\n",
       "      <td>15.66234</td>\n",
       "      <td>5817649714997514240</td>\n",
       "      <td>5167</td>\n",
       "      <td>56066</td>\n",
       "      <td>15.39406</td>\n",
       "      <td>-0.000184</td>\n",
       "      <td>1</td>\n",
       "    </tr>\n",
       "    <tr>\n",
       "      <th>...</th>\n",
       "      <td>...</td>\n",
       "      <td>...</td>\n",
       "      <td>...</td>\n",
       "      <td>...</td>\n",
       "      <td>...</td>\n",
       "      <td>...</td>\n",
       "      <td>...</td>\n",
       "    </tr>\n",
       "    <tr>\n",
       "      <th>499995</th>\n",
       "      <td>17.41838</td>\n",
       "      <td>1972663829775017984</td>\n",
       "      <td>1752</td>\n",
       "      <td>53379</td>\n",
       "      <td>17.14917</td>\n",
       "      <td>0.025480</td>\n",
       "      <td>0</td>\n",
       "    </tr>\n",
       "    <tr>\n",
       "      <th>499996</th>\n",
       "      <td>17.22944</td>\n",
       "      <td>3143591231423014912</td>\n",
       "      <td>2792</td>\n",
       "      <td>54556</td>\n",
       "      <td>16.58573</td>\n",
       "      <td>-0.000060</td>\n",
       "      <td>1</td>\n",
       "    </tr>\n",
       "    <tr>\n",
       "      <th>499997</th>\n",
       "      <td>18.01280</td>\n",
       "      <td>1177785077195630592</td>\n",
       "      <td>1046</td>\n",
       "      <td>52460</td>\n",
       "      <td>17.32779</td>\n",
       "      <td>0.077123</td>\n",
       "      <td>0</td>\n",
       "    </tr>\n",
       "    <tr>\n",
       "      <th>499998</th>\n",
       "      <td>16.62829</td>\n",
       "      <td>1508818621768427520</td>\n",
       "      <td>1340</td>\n",
       "      <td>52781</td>\n",
       "      <td>15.93923</td>\n",
       "      <td>0.085555</td>\n",
       "      <td>0</td>\n",
       "    </tr>\n",
       "    <tr>\n",
       "      <th>499999</th>\n",
       "      <td>18.49007</td>\n",
       "      <td>7101254226211524608</td>\n",
       "      <td>6307</td>\n",
       "      <td>56205</td>\n",
       "      <td>18.17759</td>\n",
       "      <td>-0.000816</td>\n",
       "      <td>1</td>\n",
       "    </tr>\n",
       "  </tbody>\n",
       "</table>\n",
       "<p>500000 rows × 7 columns</p>\n",
       "</div>"
      ],
      "text/plain": [
       "               g            specobjid  plate    mjd         r  redshift  class\n",
       "0       18.50036   819657923239110656    728  52520  17.95667  0.114299      0\n",
       "1       18.55482  6154252554903769088   5466  56033  17.95603  1.802680      2\n",
       "2       18.19434  2173034979993348096   1930  53347  17.83220  0.070813      0\n",
       "3       16.65830   649647859372681216    577  52367  16.23667  0.000570      1\n",
       "4       15.66234  5817649714997514240   5167  56066  15.39406 -0.000184      1\n",
       "...          ...                  ...    ...    ...       ...       ...    ...\n",
       "499995  17.41838  1972663829775017984   1752  53379  17.14917  0.025480      0\n",
       "499996  17.22944  3143591231423014912   2792  54556  16.58573 -0.000060      1\n",
       "499997  18.01280  1177785077195630592   1046  52460  17.32779  0.077123      0\n",
       "499998  16.62829  1508818621768427520   1340  52781  15.93923  0.085555      0\n",
       "499999  18.49007  7101254226211524608   6307  56205  18.17759 -0.000816      1\n",
       "\n",
       "[500000 rows x 7 columns]"
      ]
     },
     "execution_count": 9,
     "metadata": {},
     "output_type": "execute_result"
    }
   ],
   "source": [
    "df"
   ]
  },
  {
   "cell_type": "code",
   "execution_count": 10,
   "id": "0736867d",
   "metadata": {},
   "outputs": [],
   "source": [
    "x = df[['g','specobjid','plate','mjd','r','redshift']]\n",
    "y = df['class'].values"
   ]
  },
  {
   "cell_type": "code",
   "execution_count": 11,
   "id": "889fc570",
   "metadata": {},
   "outputs": [
    {
     "name": "stdout",
     "output_type": "stream",
     "text": [
      "Original shape: Counter({0: 252221, 1: 193243, 2: 54536})\n",
      "Resampled shape: Counter({0: 252221, 2: 252221, 1: 252221})\n"
     ]
    }
   ],
   "source": [
    "smote = SMOTE(random_state=42)\n",
    "print('Original shape:', Counter(y))\n",
    "x, y = smote.fit_resample(x, y)\n",
    "print('Resampled shape:', Counter(y))"
   ]
  },
  {
   "cell_type": "markdown",
   "id": "da337191",
   "metadata": {},
   "source": [
    "The sizes of classes are imbalanced, which may result in poor performance of classification models.\n",
    "In order to fix this we use Synthetic Minority Over-Sampling Technique(SMOTE) "
   ]
  },
  {
   "cell_type": "code",
   "execution_count": 12,
   "id": "9cd659c7",
   "metadata": {},
   "outputs": [],
   "source": [
    "x_train, x_test, y_train, y_test = train_test_split(x, y)"
   ]
  },
  {
   "cell_type": "markdown",
   "id": "e9c65527",
   "metadata": {},
   "source": [
    "Below we train 2 classification models: Random Forest and K Nearest Neighbors\n",
    "Then we compare their results using accuracy scores and confusion matrices"
   ]
  },
  {
   "cell_type": "code",
   "execution_count": 13,
   "id": "324dba9c",
   "metadata": {},
   "outputs": [
    {
     "name": "stdout",
     "output_type": "stream",
     "text": [
      "Accuracy : 0.9892\n"
     ]
    }
   ],
   "source": [
    "rf = RandomForestClassifier()\n",
    "rf.fit(x_train,y_train)\n",
    "y_rf = rf.predict(x_test)\n",
    "rf_score = rf.score(x_test, y_test)\n",
    "\n",
    "print('Accuracy : %.4f' % (rf_score))"
   ]
  },
  {
   "cell_type": "code",
   "execution_count": 14,
   "id": "d328ad3a",
   "metadata": {},
   "outputs": [
    {
     "data": {
      "text/plain": [
       "array([[62452,    86,   442],\n",
       "       [   61, 63086,     0],\n",
       "       [ 1446,     1, 61592]])"
      ]
     },
     "execution_count": 14,
     "metadata": {},
     "output_type": "execute_result"
    }
   ],
   "source": [
    "confusion_matrix(y_test,y_rf)"
   ]
  },
  {
   "cell_type": "code",
   "execution_count": 15,
   "id": "6052694c",
   "metadata": {},
   "outputs": [
    {
     "name": "stdout",
     "output_type": "stream",
     "text": [
      "Accuracy : 0.6840\n"
     ]
    }
   ],
   "source": [
    "knn = KNeighborsClassifier()\n",
    "knn.fit(x_train,y_train)\n",
    "y_knn = knn.predict(x_test)\n",
    "knn_score = knn.score(x_test, y_test)\n",
    "\n",
    "print('Accuracy : %.4f' % (knn_score))"
   ]
  },
  {
   "cell_type": "code",
   "execution_count": 16,
   "id": "a20af79d",
   "metadata": {},
   "outputs": [
    {
     "data": {
      "text/plain": [
       "array([[45370,  4028, 13582],\n",
       "       [ 8700, 46164,  8283],\n",
       "       [19029,  6153, 37857]])"
      ]
     },
     "execution_count": 16,
     "metadata": {},
     "output_type": "execute_result"
    }
   ],
   "source": [
    "confusion_matrix(y_test,y_knn)"
   ]
  },
  {
   "cell_type": "markdown",
   "id": "7dcc1ac9",
   "metadata": {},
   "source": [
    "We can see that Random Forest is much more accurate than KNN\n",
    "For Random Forest the error(objects with wrong assigned class) is very small compared to the overall sample size"
   ]
  }
 ],
 "metadata": {
  "kernelspec": {
   "display_name": "Python 3 (ipykernel)",
   "language": "python",
   "name": "python3"
  },
  "language_info": {
   "codemirror_mode": {
    "name": "ipython",
    "version": 3
   },
   "file_extension": ".py",
   "mimetype": "text/x-python",
   "name": "python",
   "nbconvert_exporter": "python",
   "pygments_lexer": "ipython3",
   "version": "3.9.7"
  }
 },
 "nbformat": 4,
 "nbformat_minor": 5
}

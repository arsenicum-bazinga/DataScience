{
  "nbformat": 4,
  "nbformat_minor": 0,
  "metadata": {
    "colab": {
      "name": "Assignment_3.ipynb",
      "provenance": []
    },
    "kernelspec": {
      "name": "python3",
      "display_name": "Python 3"
    },
    "language_info": {
      "name": "python"
    }
  },
  "cells": [
    {
      "cell_type": "code",
      "metadata": {
        "id": "j6joTA5LHC3y"
      },
      "source": [
        "import numpy as np\n",
        "import matplotlib.pyplot as plt\n",
        "%matplotlib inline\n",
        "from math import pi,sin,cos,ceil,log,sqrt"
      ],
      "execution_count": null,
      "outputs": []
    },
    {
      "cell_type": "markdown",
      "metadata": {
        "id": "aGMjOxohHD3n"
      },
      "source": [
        "#Abstract\n",
        "\n",
        "Finding roots of functions is one of the most important numerical computations with a variety of applications. There are a lot of different root-finding methods, and all of them may be more efficient than others depending on the behavior of a function. The goal of this assignment was to investigate 4 methods of finding roots, both bracketing and open methods, and to compare their performances. In the end Newton-Raphson method turned out to be the fastest and bisection method the slowest\n",
        "\n",
        "#Introduction\n",
        "There are 2 types of root-finding methods:\n",
        "* Bracketing methods require an interval as an input, they are slow but reliable(i.e. always converge). In this assignment two bracketing methods are investigated: bisection and false position.\n",
        "\n",
        "* Open methods, which only require a single point as an entry, they are faster than bracketing methods but may not always converge. Two open methods will be investigated: Newton-Raphson and fixed-point iteration.\n",
        "\n",
        "In general from the form of a function it is hard to tell exactly which method is going to be better than others.\n",
        "\n",
        "#Methodology:\n",
        "\n",
        "* The function is graphed in order to locate the vicinity of a root.\n",
        "* Each method is coded separately and iterated until precision of $10^{-10}$ is achieved.\n",
        "* Relative error vs iteration number graph is constructed\n",
        "* Results are compared and analysed"
      ]
    },
    {
      "cell_type": "markdown",
      "metadata": {
        "id": "zJ3Txr7oL503"
      },
      "source": [
        "##Part 1"
      ]
    },
    {
      "cell_type": "code",
      "metadata": {
        "colab": {
          "base_uri": "https://localhost:8080/",
          "height": 269
        },
        "id": "gAvgiyQOCE-z",
        "outputId": "ca8f5f8d-5e8a-49a0-fb6b-acaa1580abe3"
      },
      "source": [
        "def f(x):\n",
        "  return 2*np.sin(np.sqrt(x))-x+1\n",
        "\n",
        "x=np.arange(0,5,0.01)\n",
        "plt.plot(x,f(x))\n",
        "plt.grid()\n",
        "plt.show()"
      ],
      "execution_count": 16,
      "outputs": [
        {
          "output_type": "display_data",
          "data": {
            "image/png": "[encoded data removed]",
            "text/plain": [
              "<Figure size 432x288 with 1 Axes>"
            ]
          },
          "metadata": {
            "needs_background": "light"
          }
        }
      ]
    },
    {
      "cell_type": "markdown",
      "metadata": {
        "id": "oN3Ig9A0MSEh"
      },
      "source": [
        "It can be seen that root is located somewhere around x=3\n",
        "\n",
        "##Part 2"
      ]
    },
    {
      "cell_type": "code",
      "metadata": {
        "colab": {
          "base_uri": "https://localhost:8080/"
        },
        "id": "TJ_kThmnCj27",
        "outputId": "269d99f2-59d4-4fdd-aa12-4c67be768b56"
      },
      "source": [
        "def bisection(f,xl,xu,tol,imax):\n",
        "  error=[]\n",
        "  xr=xu\n",
        "  rootFound=False\n",
        "  for i in range(imax):\n",
        "    xrold=xr\n",
        "    xr=(xl+xu)/2\n",
        "    e=abs((xr-xrold)/xr)\n",
        "    error.append(e)\n",
        "    if f(xr)==0 or e<tol:\n",
        "      rootFound=True\n",
        "      break\n",
        "    if f(xl)*f(xr)<0:\n",
        "      xu=xr\n",
        "    if f(xr)*f(xu)<0:\n",
        "      xl=xr\n",
        "  if rootFound is False:\n",
        "    print(\"The root cannot be find with given accuracy within maximum number of iterations\")\n",
        "  return xr,error\n",
        "\n",
        "root_bisection,error_bisection=bisection(f,0,5,10**(-10),100)\n",
        "print(root_bisection)"
      ],
      "execution_count": 97,
      "outputs": [
        {
          "output_type": "stream",
          "name": "stdout",
          "text": [
            "2.9762156881042756\n"
          ]
        }
      ]
    },
    {
      "cell_type": "markdown",
      "metadata": {
        "id": "VMTWTTxIM6pK"
      },
      "source": [
        "##Part 3"
      ]
    },
    {
      "cell_type": "code",
      "metadata": {
        "colab": {
          "base_uri": "https://localhost:8080/"
        },
        "id": "eM6x0lU-EcYo",
        "outputId": "3c38a69b-87f5-4b56-9e8a-238c20d347cf"
      },
      "source": [
        "def falsepos(f,xl,xu,tol,imax):\n",
        "  xr=xu\n",
        "  error=[]\n",
        "  rootFound=False\n",
        "  for i in range(imax):\n",
        "    xrold=xr\n",
        "    xr=xu-(f(xu)*(xu-xl))/(f(xu)-f(xl))\n",
        "    if f(xr)==0:\n",
        "      rootFound=True\n",
        "      break\n",
        "    if f(xl)*f(xr)<0:\n",
        "      xu=xr\n",
        "    if f(xr)*f(xu)<0:\n",
        "      xl=xr\n",
        "    e=abs((xrold-xr)/xr)\n",
        "    error.append(e)\n",
        "    if e<tol:\n",
        "      rootFound=True            \n",
        "      break\n",
        "  if rootFound is False:\n",
        "    print(\"The root cannot be find with given accuracy within maximum number of iterations\")\n",
        "  return xr,error\n",
        "\n",
        "root_falsepos,error_falsepos=falsepos(f,0,5,10**(-10),100)\n",
        "print(root_falsepos)\n"
      ],
      "execution_count": 98,
      "outputs": [
        {
          "output_type": "stream",
          "name": "stdout",
          "text": [
            "2.9762156880315875\n"
          ]
        }
      ]
    },
    {
      "cell_type": "markdown",
      "metadata": {
        "id": "h6V3q04gNPaH"
      },
      "source": [
        "##Part 4"
      ]
    },
    {
      "cell_type": "code",
      "metadata": {
        "colab": {
          "base_uri": "https://localhost:8080/"
        },
        "id": "AAYYkJ3wNA-t",
        "outputId": "67116f7d-5a41-41d7-a957-ec3b370b8deb"
      },
      "source": [
        "def nr(f,df,x0,tol,imax):\n",
        "  rootFound=False\n",
        "  error=[]\n",
        "  for i in range(imax):\n",
        "    xr=x0-f(x0)/df(x0)\n",
        "    e=abs((xr-x0)/xr)\n",
        "    error.append(e)\n",
        "    if e<tol:\n",
        "      rootFound=True\n",
        "      break\n",
        "    x0=xr\n",
        "  if rootFound is False:\n",
        "    print(\"The root cannot be find with given accuracy within maximum number of iterations\")\n",
        "  return x0,error\n",
        "\n",
        "def df(x):\n",
        "  return np.cos(np.sqrt(x))/np.sqrt(x)-1\n",
        "\n",
        "root_nr,error_nr=nr(f,df,1,10**(-10),100)\n",
        "print(root_nr)"
      ],
      "execution_count": 99,
      "outputs": [
        {
          "output_type": "stream",
          "name": "stdout",
          "text": [
            "2.976215688041108\n"
          ]
        }
      ]
    },
    {
      "cell_type": "markdown",
      "metadata": {
        "id": "q2ySugfLNwC8"
      },
      "source": [
        "##Part 5"
      ]
    },
    {
      "cell_type": "code",
      "metadata": {
        "colab": {
          "base_uri": "https://localhost:8080/"
        },
        "id": "k6osjECjNXuz",
        "outputId": "fbb9e6a2-4728-4e95-b264-0d598677d203"
      },
      "source": [
        "def g(x):\n",
        "  return 2*np.sin(np.sqrt(x))+1\n",
        "\n",
        "def dg(x):\n",
        "  return np.cos(np.sqrt(x))/np.sqrt(x)\n",
        "\n",
        "def fixedpi(g,x0,tol,imax):\n",
        "  rootfound=False\n",
        "  x=[]\n",
        "  error=[]\n",
        "  x.append(x0)\n",
        "  for i in range(imax):\n",
        "    xnew=g(x[i])\n",
        "    x.append(xnew)\n",
        "    e=abs((x[i+1]-x[i])/x[i+1])\n",
        "    error.append(e)\n",
        "    if e<tol:\n",
        "      rootFound=True\n",
        "      break\n",
        "  if rootFound is False:\n",
        "    print(\"The root cannot be find with given accuracy within maximum number of iterations\")\n",
        "  n=len(x)\n",
        "  xr=x[n-1]\n",
        "  return xr,error\n",
        "\n",
        "print(root_fixedpi)\n",
        "root_fixedpi,error_fixedpi=fixedpi(g,1,10**(-10),100)"
      ],
      "execution_count": 100,
      "outputs": [
        {
          "output_type": "stream",
          "name": "stdout",
          "text": [
            "2.9762156880341646\n"
          ]
        }
      ]
    },
    {
      "cell_type": "markdown",
      "metadata": {
        "id": "u4cgl6oJNyXU"
      },
      "source": [
        "##Part 6"
      ]
    },
    {
      "cell_type": "code",
      "metadata": {
        "colab": {
          "base_uri": "https://localhost:8080/",
          "height": 279
        },
        "id": "jnV8nbMjL_2l",
        "outputId": "b4f99c08-968c-49f4-8fa4-2a875384427a"
      },
      "source": [
        "plt.yscale(\"log\")\n",
        "plt.plot(error_bisection,label='bisection')\n",
        "plt.plot(error_falsepos,label='false position')\n",
        "plt.plot(error_fixedpi,label='fixed point iteration')\n",
        "plt.plot(error_nr,label='newton-raphson')\n",
        "plt.xlabel(\"Number of iterations\")\n",
        "plt.ylabel(\"Relative error\")\n",
        "plt.legend()\n",
        "plt.show()"
      ],
      "execution_count": 101,
      "outputs": [
        {
          "output_type": "display_data",
          "data": {
            "image/png": "[encoded data removed]",
            "text/plain": [
              "<Figure size 432x288 with 1 Axes>"
            ]
          },
          "metadata": {
            "needs_background": "light"
          }
        }
      ]
    },
    {
      "cell_type": "code",
      "metadata": {
        "id": "e-77CgXzEwLx"
      },
      "source": [
        ""
      ],
      "execution_count": null,
      "outputs": []
    },
    {
      "cell_type": "markdown",
      "metadata": {
        "id": "cCU1F-LzOf94"
      },
      "source": [
        "##Part 7\n",
        "\n",
        "The graph above demonstrates that Newton-Raphson converges quadratically and other methods converge linearly. Since Newton-Raphson method uses more information than other methods, namely the derivative of a function, it converges faster. This result was expected since it was also proven in the Lecture\n",
        "\n",
        "##Part 8\n",
        "\n",
        "Under assumption that all methods converge the maximum precision is only limited by the precision of Python data types. By default it is $10^{-16}$"
      ]
    },
    {
      "cell_type": "markdown",
      "metadata": {
        "id": "3jQjKiloPXLe"
      },
      "source": [
        "## Part 9\n",
        "\n",
        "Newton-Raphson method should be the fastest for this equation. However this result is only valid for these specific initial values. If the interval for bracketing methods is significantly smaller they may outperform Newton-Raphson. If initial position for Newton-Raphson is in other place, it may even start to diverge or converge significantly slower.\n",
        "\n",
        "#References\n",
        "\n",
        "https://www.youtube.com/watch?v=dAUiJE_DgEI"
      ]
    }
  ]
}
{
  "nbformat": 4,
  "nbformat_minor": 0,
  "metadata": {
    "colab": {
      "name": "Assignment_5",
      "provenance": []
    },
    "kernelspec": {
      "name": "python3",
      "display_name": "Python 3"
    },
    "language_info": {
      "name": "python"
    }
  },
  "cells": [
    {
      "cell_type": "code",
      "metadata": {
        "id": "Pa7hM72MJC4O"
      },
      "source": [
        "import matplotlib.pyplot as plt\n",
        "import numpy as np"
      ],
      "execution_count": 1,
      "outputs": []
    },
    {
      "cell_type": "markdown",
      "metadata": {
        "id": "taZCgNQ8RFw-"
      },
      "source": [
        "#Abstract\n",
        "The purpose of this study is to investigate 1D unconstrained optimization using three methods. We are provided with a function and then use golden-search, parabolic interpolation and Newton's method to find a value that maximizes the given function. All of the methods are able to find the value of $x\\approx2.32635$ which maximizes the function. After comparing performance of these three methods, parabolic interpolation was the worst since it has limited precision. And since Newton-Raphson converges much faster than golden section method, it is the best out of three for this problem.\n",
        "\n",
        "#Introduction\n",
        "\n",
        "Optimization is the process of finding maximum or minimum given certain constraints. For example, if we need to find a shape that uses the least amount of material yet maximizes the volume contained, we need to use optimization. This process has a lot of other useful applications in science and engineering, therefore it is useful to develop computational optimization techniques.\n",
        "\n",
        "In this assignment one of the simplest, yet instructive cases is studied: optimization in 1 dimension without constraints. \n",
        "\n",
        "The function in question is $4x-1.8x^2+1.2x^3-0.3x^4$\n",
        "\n",
        "We need to use three methods to find its maximum:\n",
        "\n",
        "\n",
        "* Golden search\n",
        "* Parabolic interpolation\n",
        "* Newton-Raphson\n",
        "\n",
        "Then to compare computational efficiency of each of thos methods, errors are graphed versus iteration numbers and those graphs are compared\n",
        "\n",
        "#Methodology\n",
        "1)Golden-section method is an bracketing method, meaning it is reliable but slow. It is similar to bracketing methods for root finding. Every iteration the search interval is decreased by golden ratio. \n",
        "\n",
        "\n",
        "\n"
      ]
    },
    {
      "cell_type": "code",
      "metadata": {
        "id": "TT2ZTczhKsnk"
      },
      "source": [
        "def golden(f,a,b,tol):\n",
        "  e=[]\n",
        "  r=(np.sqrt(5)-1)/2\n",
        "  xl=a\n",
        "  xu=b\n",
        "  d0=xu-xl \n",
        "  d=r*d0\n",
        "  x1=xl+d\n",
        "  x2=xu-d\n",
        "  f1=f(x1)\n",
        "  f2=f(x2)\n",
        "  ea=tol+1\n",
        "  while(ea>tol):\n",
        "    d=r*d\n",
        "    if f1>f2:\n",
        "      xl=x2\n",
        "      x2=x1\n",
        "      x1=xl+d\n",
        "      f2=f1\n",
        "      f1=f(x1)\n",
        "    else:\n",
        "      xu=x1\n",
        "      x1=x2\n",
        "      x2=xu-d\n",
        "      f1=f2\n",
        "      f2=f(x2)\n",
        "    if f1>f2:\n",
        "      xmax=x1\n",
        "    if f2>f1:\n",
        "      xmax=x2\n",
        "    ea=abs((1-r)*(xu-xl)/xmax)*100\n",
        "    e.append(ea)\n",
        "  return xmax,e"
      ],
      "execution_count": 3,
      "outputs": []
    },
    {
      "cell_type": "markdown",
      "metadata": {
        "id": "7KbCscFvV4k-"
      },
      "source": [
        "2)Parabolic interpolation is an open method, which is faster than open methods, but sometimes it may not converge. It requires three initial points and approximates the function as a parabola, to which the maximum is always known. Then each new iteration replaces one of the points with maximum from previous iteration."
      ]
    },
    {
      "cell_type": "code",
      "metadata": {
        "id": "LXI4t6u2fKdb"
      },
      "source": [
        "def parabolic(f,a,b,c,tol,imax):\n",
        "  x3=np.zeros(imax+1)\n",
        "  x0=a\n",
        "  x1=b\n",
        "  x2=c\n",
        "  x3[0]=x1\n",
        "  e=[]\n",
        "  e.append(100)\n",
        "  for i in range(1,imax+1):\n",
        "    xt0=x0\n",
        "    xt1=x1\n",
        "    xt2=x2\n",
        "    num=f(x0)*(x1**2-x2**2)+f(x1)*(x2**2-x0**2)+f(x2)*(x0**2-x1**2)\n",
        "    denom=2*f(x0)*(x1-x2)+2*f(x1)*(x2-x0)+2*f(x2)*(x0-x1)\n",
        "    if abs(denom)<10**(-16):\n",
        "      i=i-1\n",
        "      break\n",
        "    x=num/denom\n",
        "    x3[i]=x\n",
        "    x0=xt1\n",
        "    x1=xt2\n",
        "    x2=x\n",
        "    ea=abs((x3[i]-x3[i-1])/x3[i])*100\n",
        "    e.append(ea)\n",
        "    if ea<tol:\n",
        "      break\n",
        "  return x3[i],e"
      ],
      "execution_count": 4,
      "outputs": []
    },
    {
      "cell_type": "markdown",
      "metadata": {
        "id": "KMWIHJ0FWc8_"
      },
      "source": [
        "3)Newton-Raphson method here is the same as in root-finding methods. But insteat of function and it's first derivative we take first two derivatives of the function"
      ]
    },
    {
      "cell_type": "code",
      "metadata": {
        "id": "IWpMPK4DDOCl"
      },
      "source": [
        "def df(x):\n",
        "  return 4-3.6*x+3.6*x**2-1.2*x**3\n",
        "\n",
        "def ddf(x):\n",
        "  return -3.6+7.2*x-3.6*x**2\n",
        "\n",
        "def nr(f,df,x0,tol,imax):\n",
        "  rootFound=False\n",
        "  error=[]\n",
        "  for i in range(imax):\n",
        "    xr=x0-f(x0)/df(x0)\n",
        "    e=abs((xr-x0)/xr)*100\n",
        "    error.append(e)\n",
        "    if e<tol:\n",
        "      rootFound=True\n",
        "      break\n",
        "    x0=xr\n",
        "  if rootFound is False:\n",
        "    print(\"The root cannot be find with given accuracy within maximum number of iterations\")\n",
        "  return x0,error"
      ],
      "execution_count": 5,
      "outputs": []
    },
    {
      "cell_type": "markdown",
      "metadata": {
        "id": "NpQ007eLU_iO"
      },
      "source": [
        "Results\n",
        "\n",
        "Part (a)\n",
        "\n",
        "The function is initialized and graphed. Judging from the graph its maximum should be somewhere at $x\\approx 2.3$"
      ]
    },
    {
      "cell_type": "code",
      "metadata": {
        "colab": {
          "base_uri": "https://localhost:8080/",
          "height": 282
        },
        "id": "7ge917MLJXQR",
        "outputId": "41323105-1d28-4d90-d4a3-b113f56ad1d9"
      },
      "source": [
        "def f(x):\n",
        "  return 4*x-1.8*x**2+1.2*x**3-0.3*x**4\n",
        "x=np.arange(0,3,0.1)\n",
        "plt.grid()\n",
        "plt.plot(x,f(x))"
      ],
      "execution_count": 6,
      "outputs": [
        {
          "output_type": "execute_result",
          "data": {
            "text/plain": [
              "[<matplotlib.lines.Line2D at 0x7f418db26990>]"
            ]
          },
          "metadata": {},
          "execution_count": 6
        },
        {
          "output_type": "display_data",
          "data": {
            "image/png": "[encoded data removed]",
            "text/plain": [
              "<Figure size 432x288 with 1 Axes>"
            ]
          },
          "metadata": {
            "needs_background": "light"
          }
        }
      ]
    },
    {
      "cell_type": "markdown",
      "metadata": {
        "id": "nxXASLD9W1P3"
      },
      "source": [
        "Part (b)\n",
        "For golden section method the value of $x_{max}=2.3263523921527267$"
      ]
    },
    {
      "cell_type": "code",
      "metadata": {
        "id": "BPz8WEmHdTyI"
      },
      "source": [
        "x_gold,e_gold=golden(f,-2,4,0.0000000000000001)"
      ],
      "execution_count": 8,
      "outputs": []
    },
    {
      "cell_type": "code",
      "metadata": {
        "colab": {
          "base_uri": "https://localhost:8080/"
        },
        "id": "GJLK7tM7d4bz",
        "outputId": "dce26d23-e898-469a-e808-77c7ec6cac03"
      },
      "source": [
        "print(x_gold)"
      ],
      "execution_count": 9,
      "outputs": [
        {
          "output_type": "stream",
          "name": "stdout",
          "text": [
            "2.3263523921527267\n"
          ]
        }
      ]
    },
    {
      "cell_type": "markdown",
      "metadata": {
        "id": "Cpf-UykEXS9P"
      },
      "source": [
        "Part (c) For parabolic method $x_{max}=2.326350914912123$"
      ]
    },
    {
      "cell_type": "code",
      "metadata": {
        "id": "p3_zbHoN5hG2"
      },
      "source": [
        "x_par,e_par=parabolic(f,1.75,2,2.5,0.0000000000000001,328)"
      ],
      "execution_count": 10,
      "outputs": []
    },
    {
      "cell_type": "code",
      "metadata": {
        "colab": {
          "base_uri": "https://localhost:8080/"
        },
        "id": "4r18GasM8WMa",
        "outputId": "1068a646-1d4e-447d-9cbe-e9eb7592a069"
      },
      "source": [
        "print(x_par)"
      ],
      "execution_count": 11,
      "outputs": [
        {
          "output_type": "stream",
          "name": "stdout",
          "text": [
            "2.326350914912123\n"
          ]
        }
      ]
    },
    {
      "cell_type": "markdown",
      "metadata": {
        "id": "mEMdgYx8Xiew"
      },
      "source": [
        "Part (d) For Newton-Raphson method $x_{max}=2.3263524026321307$"
      ]
    },
    {
      "cell_type": "code",
      "metadata": {
        "id": "bXRqyDKcK8__"
      },
      "source": [
        "x_nr,e_nr=nr(df,ddf,3,2*10**(-14),100)"
      ],
      "execution_count": 12,
      "outputs": []
    },
    {
      "cell_type": "code",
      "metadata": {
        "colab": {
          "base_uri": "https://localhost:8080/"
        },
        "id": "1mPz6sECLELC",
        "outputId": "76f47021-33ba-4fba-9dc8-a80ad32e3101"
      },
      "source": [
        "print(x_nr)"
      ],
      "execution_count": 13,
      "outputs": [
        {
          "output_type": "stream",
          "name": "stdout",
          "text": [
            "2.3263524026321307\n"
          ]
        }
      ]
    },
    {
      "cell_type": "markdown",
      "metadata": {
        "id": "-TiEnROOX0N7"
      },
      "source": [
        "Part (e)"
      ]
    },
    {
      "cell_type": "code",
      "metadata": {
        "colab": {
          "base_uri": "https://localhost:8080/",
          "height": 279
        },
        "id": "XLLJZPBULUJ6",
        "outputId": "3e5d7cd2-4119-40a4-8162-fcd70f276cfa"
      },
      "source": [
        "plt.plot(e_gold,label='golden section')\n",
        "plt.plot(e_par,label='parabolic interpolation')\n",
        "plt.plot(e_nr,label='newton-raphson')\n",
        "plt.legend()\n",
        "plt.xlabel('Number of iterations')\n",
        "plt.ylabel('Error, %')\n",
        "plt.yscale('log')"
      ],
      "execution_count": 14,
      "outputs": [
        {
          "output_type": "display_data",
          "data": {
            "image/png": "[encoded data removed]",
            "text/plain": [
              "<Figure size 432x288 with 1 Axes>"
            ]
          },
          "metadata": {
            "needs_background": "light"
          }
        }
      ]
    },
    {
      "cell_type": "code",
      "metadata": {
        "colab": {
          "base_uri": "https://localhost:8080/"
        },
        "id": "eBCKO2W5Ykvp",
        "outputId": "680e44ff-5b62-4572-b360-3b5e942791e0"
      },
      "source": [
        "print(min(e_par))"
      ],
      "execution_count": 15,
      "outputs": [
        {
          "output_type": "stream",
          "name": "stdout",
          "text": [
            "5.822480352405045e-05\n"
          ]
        }
      ]
    },
    {
      "cell_type": "markdown",
      "metadata": {
        "id": "-cCG1b2ZYXNg"
      },
      "source": [
        "Part (f)\n",
        "\n",
        "Maximum precision for golden-section method is $10^{-16}$, the error converger linearly\n",
        "\n",
        "Maximum precision for parabolic interpolation is $10^{-7}$\n",
        "\n",
        "Maximum precision for Newton-Raphson method is $10^{-16}$, it converges quadratically\n",
        "\n",
        "Therefore, Newton-Raphson method is the best for this problem since it converges fast and reaches maximum precision.\n",
        "\n",
        "Parabolic interpolation is the worst method, since it has limited precision\n",
        "\n",
        "#Conclusion\n",
        "After performing optimization using 3 different techniques and comparing their result, for this particular setup golden-section method was the slowest but in the end achieved maximum precision. Parabolic interpolation had limited precision of $10^{-7}$ because at some point it had denomenator in $x$ which was zero(i.e. less than $10^{-16}$). And Newton-Raphson method was able to achieve maximum precision and was also the fastest. \n",
        "\n",
        "However, Newton-Raphson only worked because we were able to easily analytically obtain first and second order derivates of the function. It is not always the case, so if the derivatives are not well defined or hard to calculate, than the performance of Newton-Raphson will struggle. \n",
        "\n",
        "Also, it is possible that with the better choice of initial points or with other polynomials parabolic interpolation will perform better\n",
        "\n",
        "Therefore more tests should be done on different functions and intial conditions to fully compare the efficiency of those optimization methods.\n",
        "#References\n",
        "Chapra, S. C., & Canale, R. P. (2011). Numerical methods for engineers\n",
        "https://www.youtube.com/watch?v=dAUiJE_DgEI\n",
        "https://www.youtube.com/watch?v=z5EcwQkSTo4"
      ]
    }
  ]
}
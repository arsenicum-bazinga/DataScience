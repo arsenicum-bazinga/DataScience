{
  "nbformat": 4,
  "nbformat_minor": 0,
  "metadata": {
    "colab": {
      "name": "Assignment_4.ipynb",
      "provenance": []
    },
    "kernelspec": {
      "name": "python3",
      "display_name": "Python 3"
    },
    "language_info": {
      "name": "python"
    }
  },
  "cells": [
    {
      "cell_type": "code",
      "metadata": {
        "id": "45m3A0ozwR8h"
      },
      "source": [
        "import random as random\n",
        "import numpy as np"
      ],
      "execution_count": 2,
      "outputs": []
    },
    {
      "cell_type": "markdown",
      "metadata": {
        "id": "KrOtyL8UwSmZ"
      },
      "source": [
        "#Abstract\n",
        "\n",
        "A lot of phenomena in nature exhibit linear dependance, therefore require using linear algebra. There are several techniques that increase the efficiency of computations, like LU and Cholesky decompositions. The purpose of this study is to find LU decomposition of matrix $A$, use it to calculate inverse and to compare this result to inverse function in numpy library. It was found that the condition number of matrix A is $10^{3}$ which is consistent with error of $10^{-13}$ we get from calculating matrix inverse. Also, nunpy implementation was 40 times faster than my code.\n",
        "\n",
        "#Introduction\n",
        "\n",
        "One of the standard ways to solve a system of linear equations $Ax=b$ is Gauss elimination. Oftetimes we need to solve this system for several different $b$ vectors and in this case Gauss elimination is not very efficient. If we are able to decompose $A$ into a product of lower-triangular matrix $L$ and upper-triangular matrix $U$, we gain a boost in computational efficiency.  \n",
        "\n",
        "It is possible to compute inverse of matrix $A$ using LU decompositions. If $b^i$ is a $i$-th column of an identity matrix, than the solution to $Ax^i=b^i$ is the $i$-th column of $A^{-1}$\n",
        "\n",
        "Condition number relates how an error in initial data affects the final result, for matrices it is $cond=||A||*||A^{-1}||$ where $||A||$ is a norm of matrix, defined as $||A||=\\sqrt{\\Sigma_{ij}a_{ij}^2}$\n",
        "If condition number is much higher than unity, than the problem is ill-conditioned and results to a huge error.\n"
      ]
    },
    {
      "cell_type": "markdown",
      "metadata": {
        "id": "PuLdS1x50aIe"
      },
      "source": [
        "#Methods\n",
        "\n",
        "In part (1) we need a function generate_a() that generates 50-by-50 matrix $A$ with random entries in range $(0,1)$ using a pre-determined seed."
      ]
    },
    {
      "cell_type": "code",
      "metadata": {
        "id": "9O-P2xP-04Yo"
      },
      "source": [
        "def generate_a():\n",
        "  random.seed(1007092020)\n",
        "  A=np.zeros((50,50))\n",
        "  for i in range(50):\n",
        "    for j in range(50):\n",
        "      A[i,j]=random.random()\n",
        "  return A"
      ],
      "execution_count": 3,
      "outputs": []
    },
    {
      "cell_type": "markdown",
      "metadata": {
        "id": "oP8G71lL06DW"
      },
      "source": [
        "In part (2) we need several things. First function doolitle(a) employs LU decomposition using Doolitle method.\n",
        "\n",
        "We split $LUx=b$ in two parts:\n",
        "$Ly=b$ and $Ux=y$. Function doolforward(L,b) solves the forward substition and returns $y$. Then function doolbackward(U,y) performs backward substitution and returns $x$\n",
        "\n",
        "In order to find inverse we use function inverse(A) which uses previously mentioned functions."
      ]
    },
    {
      "cell_type": "code",
      "metadata": {
        "id": "ALr2BpXdIus3"
      },
      "source": [
        "def doolittle(a):\n",
        "  ac=np.copy(a)\n",
        "  n=len(np.diag(a))\n",
        "  l=np.zeros(a.shape)\n",
        "  u=np.zeros(a.shape)\n",
        "  for k in range(n):\n",
        "    l[k,k]=1\n",
        "  for q in range(n):\n",
        "    u[0,q]=ac[0,q]\n",
        "  for i in range(0,n-1):\n",
        "    for j in range(i+1,n):\n",
        "      m=ac[j,i]/ac[i,i]\n",
        "      l[j,i]=m\n",
        "      ac[j,:]=ac[j,:]-m*ac[i,:]\n",
        "      u[j,:]=ac[j,:]\n",
        "  return l,u\n",
        "\n",
        "def doolforward(L,b):\n",
        "  y=np.zeros(b.shape)\n",
        "  bc=np.copy(b)\n",
        "  n=len(b)\n",
        "  y[0]=bc[0]\n",
        "  for p in range(1,n):\n",
        "    y[p]=bc[p]-np.sum(y[:p]*L[p,:p])\n",
        "  return y\n",
        "\n",
        "def doolbackward(U,y):\n",
        "  x=np.zeros(y.shape)\n",
        "  n=len(y)\n",
        "  x[n-1]=y[n-1]/U[n-1,n-1]\n",
        "  for q in range(n-2,-1,-1):\n",
        "    x[q]=(y[q]-np.sum(x[q+1:]*U[q,q+1:]))/U[q,q]\n",
        "  return x\n",
        "\n",
        "def inverse(A):\n",
        "  L,U=doolittle(A)\n",
        "  n=len(np.diag(A))\n",
        "  Ainv=np.zeros(A.shape)\n",
        "  for i in range(n):\n",
        "    b=np.zeros(n)\n",
        "    b[i]=1\n",
        "    y=doolforward(L,b)\n",
        "    x=doolbackward(U,y)\n",
        "    Ainv[:,i]=x\n",
        "  return Ainv"
      ],
      "execution_count": 4,
      "outputs": []
    },
    {
      "cell_type": "markdown",
      "metadata": {
        "id": "vZYC2csK3JkV"
      },
      "source": [
        "In part(3) we assess the value of $A*A^{-1}$ using the inbuilt function np.linalg.det() which calculates determinant of matrices. If the inverse is found correctly than the determinant should be close to 1.\n",
        "\n",
        "In part(4) condition number is calculated using inbuilt functions np.linalg.norm() which calculates the norm of a matrix.\n",
        "\n",
        "In part(5) an inbuil function np.linalg.inv() is used to calculate inverse. Also, %%timeit functions are used to determine the speed of computations.\n",
        "\n"
      ]
    },
    {
      "cell_type": "markdown",
      "metadata": {
        "id": "hcP7_MOB4Aui"
      },
      "source": [
        "#Results\n",
        "\n",
        "(1) A is generated:"
      ]
    },
    {
      "cell_type": "code",
      "metadata": {
        "id": "Uhq_e9cTL94R"
      },
      "source": [
        "A=generate_a()"
      ],
      "execution_count": 5,
      "outputs": []
    },
    {
      "cell_type": "markdown",
      "metadata": {
        "id": "faY4wdHJ4Glz"
      },
      "source": [
        "(2) Ainv is inverse matrix of A"
      ]
    },
    {
      "cell_type": "code",
      "metadata": {
        "id": "mOIxKS4bP9AT"
      },
      "source": [
        "Ainv=inverse(A)"
      ],
      "execution_count": 6,
      "outputs": []
    },
    {
      "cell_type": "markdown",
      "metadata": {
        "id": "SwF_tBU-4Wm9"
      },
      "source": [
        "(3)I is the product of A and its inverse\n",
        "We can see that I is pretty close to identity matrix and the error in the determinant is between $10^{-13}$ and $10^{-14}$ orders of magnitude"
      ]
    },
    {
      "cell_type": "code",
      "metadata": {
        "colab": {
          "base_uri": "https://localhost:8080/"
        },
        "id": "H0LRbdaaQZJ2",
        "outputId": "84cc5f36-9738-483c-ace6-dc6a8aa11854"
      },
      "source": [
        "I=np.matmul(A,Ainv)\n",
        "print(1-np.linalg.det(I))"
      ],
      "execution_count": 8,
      "outputs": [
        {
          "output_type": "stream",
          "name": "stdout",
          "text": [
            "4.39648317751562e-14\n"
          ]
        }
      ]
    },
    {
      "cell_type": "markdown",
      "metadata": {
        "id": "uriJLJtz5lSw"
      },
      "source": [
        "(4)normA is the norm of A\n",
        "normAinv is the norm of inverse of A\n",
        "cond is condition number\n",
        "cons has a magnitude of $10^3$ "
      ]
    },
    {
      "cell_type": "code",
      "metadata": {
        "colab": {
          "base_uri": "https://localhost:8080/"
        },
        "id": "M2Wg5DGW9urP",
        "outputId": "ea4ee0b5-4b18-46c3-b8c9-949ad3789bfa"
      },
      "source": [
        "normA=np.linalg.norm(A)\n",
        "normAinv=np.linalg.norm(Ainv)\n",
        "cond=normA*normAinv\n",
        "print(cond)"
      ],
      "execution_count": 9,
      "outputs": [
        {
          "output_type": "stream",
          "name": "stdout",
          "text": [
            "1232.7905702783369\n"
          ]
        }
      ]
    },
    {
      "cell_type": "markdown",
      "metadata": {
        "id": "CcRxHjbS50NM"
      },
      "source": [
        "(5)LU_inverse is cumputed using my code\n",
        "numpy_inverse is calculated using numpy library\n",
        "\n",
        "numpy_inverse is 40 times faster than LU_inverse"
      ]
    },
    {
      "cell_type": "code",
      "metadata": {
        "colab": {
          "base_uri": "https://localhost:8080/"
        },
        "id": "JrBCwn65Qsc2",
        "outputId": "56cc7cd3-5cc7-4326-ce8c-2cc4216b77f2"
      },
      "source": [
        "%%timeit -r5 -n100\n",
        "A=generate_a()\n",
        "LU_inverse=inverse(A)"
      ],
      "execution_count": 10,
      "outputs": [
        {
          "output_type": "stream",
          "name": "stdout",
          "text": [
            "100 loops, best of 5: 42.1 ms per loop\n"
          ]
        }
      ]
    },
    {
      "cell_type": "code",
      "metadata": {
        "colab": {
          "base_uri": "https://localhost:8080/"
        },
        "id": "y7L-b6zVdCjD",
        "outputId": "3d4a6daf-91fd-4113-8aad-ded0a958dc81"
      },
      "source": [
        "%%timeit -r5 -n100\n",
        "A=generate_a()\n",
        "numpy_inverse=np.linalg.inv(A)"
      ],
      "execution_count": 11,
      "outputs": [
        {
          "output_type": "stream",
          "name": "stdout",
          "text": [
            "100 loops, best of 5: 1.41 ms per loop\n"
          ]
        }
      ]
    },
    {
      "cell_type": "markdown",
      "metadata": {
        "id": "QoEIjabr6Tyx"
      },
      "source": [
        "#Conclusions\n",
        "\n",
        "It was found that the implementation of LU decomposition in this code was successful in finding iverse of a matrix with an error of $10^{-13}-10^{-14}. Since matrix $A$ has a condition number of order $10^3$ and the default precision of float is $10^{-16}, we can see that the results of parts(3) and (4) are consistent with each other: $10{-16}*1000=10^{-13}$\n",
        "\n",
        "In part(5) numpy implementation of inverse was 40 times faster. This is because numpy uses special library LAPACK which is based on a simpler language C, so it is more optimized for such computations."
      ]
    }
  ]
}
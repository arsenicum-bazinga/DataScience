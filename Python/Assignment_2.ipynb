{
  "nbformat": 4,
  "nbformat_minor": 0,
  "metadata": {
    "colab": {
      "name": "Assignment_2.ipynb",
      "provenance": []
    },
    "kernelspec": {
      "name": "python3",
      "display_name": "Python 3"
    },
    "language_info": {
      "name": "python"
    }
  },
  "cells": [
    {
      "cell_type": "code",
      "metadata": {
        "id": "eSwUTsyrkC14"
      },
      "source": [
        "import math\n",
        "import numpy as np\n",
        "import matplotlib.pyplot as plt\n",
        "%matplotlib inline"
      ],
      "execution_count": 1,
      "outputs": []
    },
    {
      "cell_type": "markdown",
      "metadata": {
        "id": "BMlOEUR-giL3"
      },
      "source": [
        "##Abstract\n",
        "\n",
        "Numerical computations, by their nature, give rise to different types of errors. This assignment is set up to investigate how adding more terms to the Maclaurin expansion of exponential function affects the truncation error. It was discovered that adding more terms leads to the decrease of error until a breaking point, and at this point the error will remain constant. This happens because for large $n$ terms are treated as zeros by Python. With the increase of $x$ it took more terms to reach this breaking point. \n",
        "\n",
        "##Introduction\n",
        "\n",
        "Truncation errors are associated with using finite amount of terms to approximate infinite series\n",
        "\n",
        "Hypothesis:\n",
        "* With the increase in $n$ truncation error will decrease until a certain point\n",
        "* With the increase of $x$ the error will decay slower\n",
        "\n",
        "This hypothesis will be tested by plotting graphs of error vs number of terms for several values of $x$\n",
        "##Methodology\n",
        "The following steps are performed for $x=1$, $x=2$ and $x=10$\n",
        "* In Part A a function that estimates $e^x$ using $n$ terms is created:"
      ]
    },
    {
      "cell_type": "code",
      "metadata": {
        "id": "O_lnHHe6ltZK"
      },
      "source": [
        "def exp(x,n):\n",
        "  exp=0\n",
        "  for i in range(n+1):\n",
        "    exp=exp+x**i/math.factorial(i)\n",
        "  return exp"
      ],
      "execution_count": 2,
      "outputs": []
    },
    {
      "cell_type": "markdown",
      "metadata": {
        "id": "IP2Bn4Aqlyeo"
      },
      "source": [
        "* In Part B errors after adding each term are calculated and stored in array. Then errors are graphed versus the number of terms"
      ]
    },
    {
      "cell_type": "code",
      "metadata": {
        "id": "N5KyAsFjluzS"
      },
      "source": [
        "def error(x,n):\n",
        "  error=[]\n",
        "  part_c=[]\n",
        "  for i in range(n):\n",
        "    err=(np.e**x-exp(x,i))/np.e**x\n",
        "    error.append(err)\n",
        "  return abs(np.array(error))"
      ],
      "execution_count": 6,
      "outputs": []
    },
    {
      "cell_type": "markdown",
      "metadata": {
        "id": "ThykxhHMmavj"
      },
      "source": [
        "* In Part C the number of terms required to reach precision of $10^{-15}$ is calculated:"
      ]
    },
    {
      "cell_type": "code",
      "metadata": {
        "id": "QtCm6ke0O_sr"
      },
      "source": [
        "def part_c(error):\n",
        "  n=len(error)\n",
        "  for i in range(n):\n",
        "    if error[i]<10**(-15):\n",
        "      print(\"Given precision is reached at n =\",i)\n",
        "      break"
      ],
      "execution_count": 7,
      "outputs": []
    },
    {
      "cell_type": "markdown",
      "metadata": {
        "id": "o_NUjco3mxY8"
      },
      "source": [
        "* In Part D behavior before and after reaching precision of $10^{−15}$ will be compared\n",
        "* In Part E and F results for $x=2$ and $x=10$ will be compared to $x=1$ case\n",
        "#Results\n",
        "###Part A and B"
      ]
    },
    {
      "cell_type": "code",
      "metadata": {
        "id": "NlUgvd25Zelv"
      },
      "source": [
        "error1=error(1,50)\n",
        "error2=error(2,50)\n",
        "error10=error(10,50)"
      ],
      "execution_count": 8,
      "outputs": []
    },
    {
      "cell_type": "code",
      "metadata": {
        "colab": {
          "base_uri": "https://localhost:8080/",
          "height": 296
        },
        "id": "7w3eeNX4XYyf",
        "outputId": "a141a24d-3de2-497e-f559-47cd0c320fd3"
      },
      "source": [
        "plt.plot(error1,label=\"x=1\")\n",
        "plt.plot(error2,label=\"x=2\")\n",
        "plt.plot(error10,label=\"x=10\")\n",
        "plt.xlabel('n')\n",
        "plt.ylabel('relative error')\n",
        "plt.yscale('log')\n",
        "plt.legend()"
      ],
      "execution_count": 9,
      "outputs": [
        {
          "output_type": "execute_result",
          "data": {
            "text/plain": [
              "<matplotlib.legend.Legend at 0x7f974a2b1d50>"
            ]
          },
          "metadata": {},
          "execution_count": 9
        },
        {
          "output_type": "display_data",
          "data": {
            "image/png": "[encoded data removed]",
            "text/plain": [
              "<Figure size 432x288 with 1 Axes>"
            ]
          },
          "metadata": {
            "needs_background": "light"
          }
        }
      ]
    },
    {
      "cell_type": "markdown",
      "metadata": {
        "id": "N4j6abkGpkJT"
      },
      "source": [
        "###Part C"
      ]
    },
    {
      "cell_type": "code",
      "metadata": {
        "colab": {
          "base_uri": "https://localhost:8080/"
        },
        "id": "z32uT1tgam5l",
        "outputId": "88d0dc1a-9279-4c51-e461-3df6cec27578"
      },
      "source": [
        "print(\"For x=1\")\n",
        "part_c(error1)\n",
        "print(\"For x=2\")\n",
        "part_c(error2)\n",
        "print(\"For x=10\")\n",
        "part_c(error10)"
      ],
      "execution_count": 12,
      "outputs": [
        {
          "output_type": "stream",
          "text": [
            "For x=1\n",
            "Given precision is reached at n = 16\n",
            "For x=2\n",
            "Given precision is reached at n = 21\n",
            "For x=10\n",
            "Given precision is reached at n = 44\n"
          ],
          "name": "stdout"
        }
      ]
    },
    {
      "cell_type": "markdown",
      "metadata": {
        "id": "BgtesNMcrqWw"
      },
      "source": [
        "###Part D\n",
        "\n",
        "After term $n=16$ at which precision of $10^{-15}$ was reached the errors are constant and of order $10^{-16}$. This happens because subsequent terms $n>16$ are smaller than the precision of float and therefore Python thinks they are zeros. Because of this truncation error for subsequent terms remains constant\n",
        "\n",
        "###Part E and F\n",
        "\n",
        "In this parts the behavior of error graph is globally the same. With the increase of $x$ it takes more terms to reach $10^{-15}$ precision, namely $n=21$ for $x=2$ and $n=44$ for $x=10$. This happens because for $x=1$ case numerator is constant, and for $x>1$ we have $x^n$ in numerator causing error to decay slower \n",
        "\n",
        "After the breaking point, all three graphs remain constant for the same reason mentioned in Part D. And the value of error is similar for all cases being of $10^{-16}$ order of magnitude.\n",
        "\n",
        "#Conclusion\n",
        "\n",
        "According to the hypothesis indeed the errors decreased until reaching the breaking point and then remained constant. This is due to Python float variables having limited precision. Additionally larger values of $x$ required more terms to reach the required precision. This is because the numerator of term is a function of $x^n$ and the fraction decays slower for bigger $x$.\n",
        "\n",
        "In future different power series could be tested using the same procedure to check whether or not similar results can be reproduced. Other values of $x$ can also be investigated, especially numbers with a lot of significant digits."
      ]
    }
  ]
}
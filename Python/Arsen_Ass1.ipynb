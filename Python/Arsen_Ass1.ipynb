{
  "nbformat": 4,
  "nbformat_minor": 0,
  "metadata": {
    "colab": {
      "name": "Arsen Ass1.ipynb",
      "provenance": []
    },
    "kernelspec": {
      "name": "python3",
      "display_name": "Python 3"
    },
    "language_info": {
      "name": "python"
    }
  },
  "cells": [
    {
      "cell_type": "markdown",
      "metadata": {
        "id": "w-J9HPT4vsQu"
      },
      "source": [
        "#Abstract\n",
        "\n",
        "Lists and numpy arrays are one of the most generic, yet very important data types in Python. This assignment was dedicated to determining whether or not numpy arrays are faster than lists for certain computations. In the end, numpy arrays turned out to be faster for all the operations in this assignment. Depending on the type of operation, arrays were from 1.5 up to 10 times faster. \n",
        "\n",
        "#Introduction \n",
        "\n",
        "The goal of this assignment is to generate random numbers and perform different operations on them using lists and numpy arrays, and then to determine which data type handles those computations faster.\n",
        "\n",
        "Hypothesis: for the tasks in this assignment, numpy arrays should perform better than lists, because:\n",
        "*   Lists in general may contain different data types, so before doing operations on numbers like addition python has to check whether or not the entries in list are compatible with such operations. In contrast, in arrays all the entries are of the same type \n",
        "*   Array entries are stored in memory compactly so it is faster to access them in sequence\n",
        "*   Numpy can separate a procedure into subparts and exectute them parallelly \n",
        "\n",
        "Arrays/lists will be generated and then different computations will be performed on them. The time will be measured for all the steps and in the end the results will be summarized in the table and analysed.  \n",
        "\n",
        "#Methodology\n",
        "\n",
        "The following steps were performed for both arrays and lists:\n",
        "\n",
        "*   Part A: Arrays/lists $a$ and $b$ of size 1000 were generated and filled with random entries\n",
        "*   Part B: Array/list $c$ was created, with entries $c[i]=a[i]+b[i]$\n",
        "* Part C: For $a$, $b$ and $c$ minimum, maximum, mean and root mean squared were calculated\n",
        "\n",
        "The time was measured using %timeit command. It executes a given line of code several times and then finds the average time. Then it repeats this process 5 times and selects the best result, this is done in order to minimize effects due to background processes.\n",
        "\n",
        "#Results\n",
        "Task|List(time in $\\mu s$)|Array(time in $\\mu s$)|Ratio(list time/array time)\n",
        "-|-|-|-\n",
        "Generate a|97.3|9.33|10.4\n",
        "Generate b|96.6|9.32|10.4\n",
        "Generate c|166|1.08|154\n",
        "Calculate min of a|17.4|5.08|3.43\n",
        "Calculate max of a|17.8|5.11|3.48\n",
        "Calculate mean of a|4.39|3.30|1.33\n",
        "Calculate rms of a|118|9.18|12.9\n",
        "Calculate min of b|17.5|5.19|3.34\n",
        "Calculate max of b|17.9|4.99|3.59\n",
        "Calculate mean of b|4.69|3.24|1.45\n",
        "Calculate rms of b|117|9.32|12.6\n",
        "Calculate min of c|17.4|5.07|3.43\n",
        "Calculate max of c|17.8|5.00|3.56\n",
        "Calculate mean of c|4.59|3.22|1.43\n",
        "Calculate rms of c|119|9.18|13.0\n",
        "\n",
        "Numpy arrays performed better than lists in all parts of assigned tasks.\n",
        "Generating arrays $a$ and $b$ filled with random numbers was 10 times faster. Generating array $c$ was 154 faster. Calculating min/max was on average 3.5 times faster. Calculating mean was 1.3-1.4 times faster. Calclating root mean squared was 12-13 times faster.\n",
        "\n",
        "This is mainly due to parallelization: for $a$ and $b$ numpy generated random numbers and assigned them to array entries in parallel, for $c$ it also added those numbers in parallel, etc.\n",
        "\n",
        "#Conclusion\n",
        "According to the hypothesis numpy arrays indeed were faster than lists. This is mainly achieved due to numpy being able to compute different processes in parallel. This topic can be further investigated by varying the size of arrays and learning whether or not python arrays will continue to be faster and if the ratio of speed will increase.\n",
        "\n",
        "#References\n",
        "https://towardsdatascience.com/how-fast-numpy-really-is-e9111df44347"
      ]
    },
    {
      "cell_type": "code",
      "metadata": {
        "id": "iU-x5YlCyAj9"
      },
      "source": [
        "import numpy as np\n",
        "from time import time\n",
        "from random import random\n",
        "n=1000\n",
        " \n",
        "def rms_list(x):\n",
        "  s=0\n",
        "  for i in range(n):\n",
        "    s=s+x[i]*x[i]\n",
        "  rms=(s/n)**0.5\n",
        "  return rms\n",
        " \n",
        "def rms_array(x):\n",
        "  return np.sqrt(1/n*np.sum(x**2))"
      ],
      "execution_count": null,
      "outputs": []
    },
    {
      "cell_type": "markdown",
      "metadata": {
        "id": "6G0m4nhH8DhD"
      },
      "source": [
        "Lists Part A"
      ]
    },
    {
      "cell_type": "code",
      "metadata": {
        "colab": {
          "base_uri": "https://localhost:8080/"
        },
        "id": "kVzOz_6syI66",
        "outputId": "0a2f9f26-9d7f-47c1-9828-29413d87ec8a"
      },
      "source": [
        "a=[random() for i in range(n)]\n",
        "%timeit a=[random() for i in range(n)]"
      ],
      "execution_count": null,
      "outputs": [
        {
          "output_type": "stream",
          "text": [
            "10000 loops, best of 5: 97.3 µs per loop\n"
          ],
          "name": "stdout"
        }
      ]
    },
    {
      "cell_type": "code",
      "metadata": {
        "colab": {
          "base_uri": "https://localhost:8080/"
        },
        "id": "pShkH2L98Oo0",
        "outputId": "7e61e5c5-b04c-4acb-f90c-c088b7ccb8e9"
      },
      "source": [
        "b=[random() for i in range(n)]\n",
        "%timeit b=[random() for i in range(n)]"
      ],
      "execution_count": null,
      "outputs": [
        {
          "output_type": "stream",
          "text": [
            "10000 loops, best of 5: 96.6 µs per loop\n"
          ],
          "name": "stdout"
        }
      ]
    },
    {
      "cell_type": "markdown",
      "metadata": {
        "id": "AAqU2aGd8XcT"
      },
      "source": [
        "Lists Part B"
      ]
    },
    {
      "cell_type": "code",
      "metadata": {
        "colab": {
          "base_uri": "https://localhost:8080/"
        },
        "id": "qo7kxcmO8NJ-",
        "outputId": "4797232c-1823-4e71-fc11-1885620cffeb"
      },
      "source": [
        "c=[a[i]+b[i]for i in range(n)]\n",
        "%timeit c=[a[i]+b[i]for i in range(n)]"
      ],
      "execution_count": null,
      "outputs": [
        {
          "output_type": "stream",
          "text": [
            "10000 loops, best of 5: 166 µs per loop\n"
          ],
          "name": "stdout"
        }
      ]
    },
    {
      "cell_type": "markdown",
      "metadata": {
        "id": "80cDQEFo8ZgO"
      },
      "source": [
        "Lists Part C"
      ]
    },
    {
      "cell_type": "code",
      "metadata": {
        "colab": {
          "base_uri": "https://localhost:8080/"
        },
        "id": "FuhNfSC38LWl",
        "outputId": "5c201121-4393-4108-90fa-f227478bdb32"
      },
      "source": [
        "%timeit min(a)"
      ],
      "execution_count": null,
      "outputs": [
        {
          "output_type": "stream",
          "text": [
            "100000 loops, best of 5: 17.4 µs per loop\n"
          ],
          "name": "stdout"
        }
      ]
    },
    {
      "cell_type": "code",
      "metadata": {
        "colab": {
          "base_uri": "https://localhost:8080/"
        },
        "id": "jJhff5MT8iTC",
        "outputId": "5e7efc5b-b8be-46dd-8690-c85b97c0d1dd"
      },
      "source": [
        "%timeit max(a)"
      ],
      "execution_count": null,
      "outputs": [
        {
          "output_type": "stream",
          "text": [
            "100000 loops, best of 5: 17.8 µs per loop\n"
          ],
          "name": "stdout"
        }
      ]
    },
    {
      "cell_type": "code",
      "metadata": {
        "colab": {
          "base_uri": "https://localhost:8080/"
        },
        "id": "y_hNhbvF8nmr",
        "outputId": "5c6bdd67-87c1-4867-ba7b-012645017ae0"
      },
      "source": [
        "%timeit sum(a)/n"
      ],
      "execution_count": null,
      "outputs": [
        {
          "output_type": "stream",
          "text": [
            "The slowest run took 6.20 times longer than the fastest. This could mean that an intermediate result is being cached.\n",
            "100000 loops, best of 5: 4.39 µs per loop\n"
          ],
          "name": "stdout"
        }
      ]
    },
    {
      "cell_type": "code",
      "metadata": {
        "colab": {
          "base_uri": "https://localhost:8080/"
        },
        "id": "HsiQC6UR3_zj",
        "outputId": "192be1b0-d4ad-475e-dbb2-eaecaf4025b2"
      },
      "source": [
        "%timeit rms_list(a)"
      ],
      "execution_count": null,
      "outputs": [
        {
          "output_type": "stream",
          "text": [
            "10000 loops, best of 5: 118 µs per loop\n"
          ],
          "name": "stdout"
        }
      ]
    },
    {
      "cell_type": "code",
      "metadata": {
        "colab": {
          "base_uri": "https://localhost:8080/"
        },
        "id": "K_ZQhJMRhcrh",
        "outputId": "2791de04-e539-4398-b765-b02aa31ab2c5"
      },
      "source": [
        "%timeit min(b)"
      ],
      "execution_count": null,
      "outputs": [
        {
          "output_type": "stream",
          "text": [
            "100000 loops, best of 5: 17.5 µs per loop\n"
          ],
          "name": "stdout"
        }
      ]
    },
    {
      "cell_type": "code",
      "metadata": {
        "colab": {
          "base_uri": "https://localhost:8080/"
        },
        "id": "QUymeHq9hgnE",
        "outputId": "508d9488-7bc4-4052-d8aa-f0b8413e6d19"
      },
      "source": [
        "%timeit max(b)"
      ],
      "execution_count": null,
      "outputs": [
        {
          "output_type": "stream",
          "text": [
            "100000 loops, best of 5: 17.9 µs per loop\n"
          ],
          "name": "stdout"
        }
      ]
    },
    {
      "cell_type": "code",
      "metadata": {
        "colab": {
          "base_uri": "https://localhost:8080/"
        },
        "id": "WeUX8q5nhhl6",
        "outputId": "e644f365-f8f1-4802-b3b4-d942912112f1"
      },
      "source": [
        "%timeit sum(b)/n"
      ],
      "execution_count": null,
      "outputs": [
        {
          "output_type": "stream",
          "text": [
            "The slowest run took 4.22 times longer than the fastest. This could mean that an intermediate result is being cached.\n",
            "100000 loops, best of 5: 4.69 µs per loop\n"
          ],
          "name": "stdout"
        }
      ]
    },
    {
      "cell_type": "code",
      "metadata": {
        "colab": {
          "base_uri": "https://localhost:8080/"
        },
        "id": "8mEuP3r0hi_f",
        "outputId": "d5b70726-a8f8-4842-9554-9882a4164816"
      },
      "source": [
        "%timeit rms_list(b)"
      ],
      "execution_count": null,
      "outputs": [
        {
          "output_type": "stream",
          "text": [
            "10000 loops, best of 5: 117 µs per loop\n"
          ],
          "name": "stdout"
        }
      ]
    },
    {
      "cell_type": "code",
      "metadata": {
        "colab": {
          "base_uri": "https://localhost:8080/"
        },
        "id": "XksZforEhkzS",
        "outputId": "608724be-3906-4e64-bbd3-dae1677eddb4"
      },
      "source": [
        "%timeit min(c)"
      ],
      "execution_count": null,
      "outputs": [
        {
          "output_type": "stream",
          "text": [
            "100000 loops, best of 5: 17.4 µs per loop\n"
          ],
          "name": "stdout"
        }
      ]
    },
    {
      "cell_type": "code",
      "metadata": {
        "colab": {
          "base_uri": "https://localhost:8080/"
        },
        "id": "nFDJtGf4hlsQ",
        "outputId": "7dc1ec6b-d477-4713-b59d-2772118850eb"
      },
      "source": [
        "%timeit max(c)"
      ],
      "execution_count": null,
      "outputs": [
        {
          "output_type": "stream",
          "text": [
            "100000 loops, best of 5: 17.8 µs per loop\n"
          ],
          "name": "stdout"
        }
      ]
    },
    {
      "cell_type": "code",
      "metadata": {
        "colab": {
          "base_uri": "https://localhost:8080/"
        },
        "id": "fhTSs9DMhm0b",
        "outputId": "967d0b87-ad4f-4ee7-f48e-f6855c60ba44"
      },
      "source": [
        "%timeit sum(c)/n"
      ],
      "execution_count": null,
      "outputs": [
        {
          "output_type": "stream",
          "text": [
            "The slowest run took 4.49 times longer than the fastest. This could mean that an intermediate result is being cached.\n",
            "100000 loops, best of 5: 4.59 µs per loop\n"
          ],
          "name": "stdout"
        }
      ]
    },
    {
      "cell_type": "code",
      "metadata": {
        "colab": {
          "base_uri": "https://localhost:8080/"
        },
        "id": "Q8Ea8a3WhoEf",
        "outputId": "4c32eccd-5b0b-44b4-ba3a-0c97670a5ffd"
      },
      "source": [
        "%timeit rms_list(c)"
      ],
      "execution_count": null,
      "outputs": [
        {
          "output_type": "stream",
          "text": [
            "10000 loops, best of 5: 119 µs per loop\n"
          ],
          "name": "stdout"
        }
      ]
    },
    {
      "cell_type": "markdown",
      "metadata": {
        "id": "ocjKjhW-8rIB"
      },
      "source": [
        "Arrays Part A"
      ]
    },
    {
      "cell_type": "code",
      "metadata": {
        "colab": {
          "base_uri": "https://localhost:8080/"
        },
        "id": "IF-oGwfXzdxM",
        "outputId": "6b1b713b-9919-427c-8b5d-7715ad2a7a1d"
      },
      "source": [
        "a=np.random.rand(1000)\n",
        "%timeit a=np.random.rand(1000)"
      ],
      "execution_count": null,
      "outputs": [
        {
          "output_type": "stream",
          "text": [
            "The slowest run took 5.30 times longer than the fastest. This could mean that an intermediate result is being cached.\n",
            "100000 loops, best of 5: 9.33 µs per loop\n"
          ],
          "name": "stdout"
        }
      ]
    },
    {
      "cell_type": "code",
      "metadata": {
        "colab": {
          "base_uri": "https://localhost:8080/"
        },
        "id": "CmYcRuUy8tZD",
        "outputId": "2a7bb30f-b887-460f-81ed-4cae187c5b1c"
      },
      "source": [
        "b=np.random.rand(1000)\n",
        "%timeit b=np.random.rand(1000)"
      ],
      "execution_count": null,
      "outputs": [
        {
          "output_type": "stream",
          "text": [
            "The slowest run took 4.35 times longer than the fastest. This could mean that an intermediate result is being cached.\n",
            "100000 loops, best of 5: 9.32 µs per loop\n"
          ],
          "name": "stdout"
        }
      ]
    },
    {
      "cell_type": "markdown",
      "metadata": {
        "id": "Nz-INjXv8zRS"
      },
      "source": [
        "Arrays Part B"
      ]
    },
    {
      "cell_type": "code",
      "metadata": {
        "colab": {
          "base_uri": "https://localhost:8080/"
        },
        "id": "Wm3yF8rP0Db3",
        "outputId": "44f3b90a-ab40-4203-8b7b-78413950d13d"
      },
      "source": [
        "c=a+b\n",
        "%timeit c=a+b"
      ],
      "execution_count": null,
      "outputs": [
        {
          "output_type": "stream",
          "text": [
            "The slowest run took 22.38 times longer than the fastest. This could mean that an intermediate result is being cached.\n",
            "1000000 loops, best of 5: 1.08 µs per loop\n"
          ],
          "name": "stdout"
        }
      ]
    },
    {
      "cell_type": "markdown",
      "metadata": {
        "id": "RZV4rAQV83Wy"
      },
      "source": [
        "Arrays Part C"
      ]
    },
    {
      "cell_type": "code",
      "metadata": {
        "colab": {
          "base_uri": "https://localhost:8080/"
        },
        "id": "R3g9G5Ng3FDg",
        "outputId": "0d5e6f38-11ac-4f3b-f9f6-89fcf6b91511"
      },
      "source": [
        "%timeit np.amin(a)"
      ],
      "execution_count": null,
      "outputs": [
        {
          "output_type": "stream",
          "text": [
            "The slowest run took 91.53 times longer than the fastest. This could mean that an intermediate result is being cached.\n",
            "100000 loops, best of 5: 5.08 µs per loop\n"
          ],
          "name": "stdout"
        }
      ]
    },
    {
      "cell_type": "code",
      "metadata": {
        "colab": {
          "base_uri": "https://localhost:8080/"
        },
        "id": "bgmEaAmT86E8",
        "outputId": "3d636c08-996f-47eb-8bc6-13cb922e9c2e"
      },
      "source": [
        "%timeit np.amax(a)"
      ],
      "execution_count": null,
      "outputs": [
        {
          "output_type": "stream",
          "text": [
            "The slowest run took 14.29 times longer than the fastest. This could mean that an intermediate result is being cached.\n",
            "100000 loops, best of 5: 5.11 µs per loop\n"
          ],
          "name": "stdout"
        }
      ]
    },
    {
      "cell_type": "code",
      "metadata": {
        "colab": {
          "base_uri": "https://localhost:8080/"
        },
        "id": "eRu154lK9LgU",
        "outputId": "e73a280f-cece-412d-d33f-bccb812aeb02"
      },
      "source": [
        "%timeit a.sum()/n"
      ],
      "execution_count": null,
      "outputs": [
        {
          "output_type": "stream",
          "text": [
            "The slowest run took 31.49 times longer than the fastest. This could mean that an intermediate result is being cached.\n",
            "100000 loops, best of 5: 3.3 µs per loop\n"
          ],
          "name": "stdout"
        }
      ]
    },
    {
      "cell_type": "code",
      "metadata": {
        "colab": {
          "base_uri": "https://localhost:8080/"
        },
        "id": "r0KgrZ7K4Bht",
        "outputId": "089ff5bd-a910-4939-98dd-c60661385732"
      },
      "source": [
        "%timeit rms_array(a)"
      ],
      "execution_count": null,
      "outputs": [
        {
          "output_type": "stream",
          "text": [
            "The slowest run took 12.19 times longer than the fastest. This could mean that an intermediate result is being cached.\n",
            "100000 loops, best of 5: 9.18 µs per loop\n"
          ],
          "name": "stdout"
        }
      ]
    },
    {
      "cell_type": "code",
      "metadata": {
        "colab": {
          "base_uri": "https://localhost:8080/"
        },
        "id": "yC4x_nVBiifr",
        "outputId": "2384f51a-0755-4d34-f0c0-6918f5942b1d"
      },
      "source": [
        "%timeit np.amin(b)"
      ],
      "execution_count": null,
      "outputs": [
        {
          "output_type": "stream",
          "text": [
            "The slowest run took 32.50 times longer than the fastest. This could mean that an intermediate result is being cached.\n",
            "100000 loops, best of 5: 5.19 µs per loop\n"
          ],
          "name": "stdout"
        }
      ]
    },
    {
      "cell_type": "code",
      "metadata": {
        "colab": {
          "base_uri": "https://localhost:8080/"
        },
        "id": "LDefMDvyilm8",
        "outputId": "319e1bc5-3c18-45b2-9e5e-0037fc4dd17a"
      },
      "source": [
        "%timeit np.amax(b)"
      ],
      "execution_count": null,
      "outputs": [
        {
          "output_type": "stream",
          "text": [
            "The slowest run took 16.92 times longer than the fastest. This could mean that an intermediate result is being cached.\n",
            "100000 loops, best of 5: 4.99 µs per loop\n"
          ],
          "name": "stdout"
        }
      ]
    },
    {
      "cell_type": "code",
      "metadata": {
        "colab": {
          "base_uri": "https://localhost:8080/"
        },
        "id": "BCgdsTtkinMv",
        "outputId": "ddf638b5-82c4-4eaf-e68f-974a05e32df6"
      },
      "source": [
        "%timeit b.sum()/n"
      ],
      "execution_count": null,
      "outputs": [
        {
          "output_type": "stream",
          "text": [
            "The slowest run took 21.84 times longer than the fastest. This could mean that an intermediate result is being cached.\n",
            "100000 loops, best of 5: 3.24 µs per loop\n"
          ],
          "name": "stdout"
        }
      ]
    },
    {
      "cell_type": "code",
      "metadata": {
        "colab": {
          "base_uri": "https://localhost:8080/"
        },
        "id": "0sMlogtwio9d",
        "outputId": "09080bbb-57c7-4be1-d9b1-ec37ffb98c61"
      },
      "source": [
        "%timeit rms_array(b)"
      ],
      "execution_count": null,
      "outputs": [
        {
          "output_type": "stream",
          "text": [
            "The slowest run took 13.12 times longer than the fastest. This could mean that an intermediate result is being cached.\n",
            "100000 loops, best of 5: 9.32 µs per loop\n"
          ],
          "name": "stdout"
        }
      ]
    },
    {
      "cell_type": "code",
      "metadata": {
        "colab": {
          "base_uri": "https://localhost:8080/"
        },
        "id": "RTf2kRqrirZ4",
        "outputId": "b8a9cfc9-cf6a-4bab-c712-070ac5247e45"
      },
      "source": [
        "%timeit np.amin(c)"
      ],
      "execution_count": null,
      "outputs": [
        {
          "output_type": "stream",
          "text": [
            "The slowest run took 14.03 times longer than the fastest. This could mean that an intermediate result is being cached.\n",
            "100000 loops, best of 5: 5.07 µs per loop\n"
          ],
          "name": "stdout"
        }
      ]
    },
    {
      "cell_type": "code",
      "metadata": {
        "colab": {
          "base_uri": "https://localhost:8080/"
        },
        "id": "R5TKKOD5ir54",
        "outputId": "14718f35-ad6a-45f7-c792-b79b00736726"
      },
      "source": [
        "%timeit np.amax(c)"
      ],
      "execution_count": null,
      "outputs": [
        {
          "output_type": "stream",
          "text": [
            "The slowest run took 17.28 times longer than the fastest. This could mean that an intermediate result is being cached.\n",
            "100000 loops, best of 5: 5 µs per loop\n"
          ],
          "name": "stdout"
        }
      ]
    },
    {
      "cell_type": "code",
      "metadata": {
        "colab": {
          "base_uri": "https://localhost:8080/"
        },
        "id": "LNDajt2yisKX",
        "outputId": "fbcbad39-6d8e-41ba-d338-71d5e40cb6df"
      },
      "source": [
        "%timeit c_mean=c.sum()/n"
      ],
      "execution_count": null,
      "outputs": [
        {
          "output_type": "stream",
          "text": [
            "The slowest run took 27.17 times longer than the fastest. This could mean that an intermediate result is being cached.\n",
            "100000 loops, best of 5: 3.22 µs per loop\n"
          ],
          "name": "stdout"
        }
      ]
    },
    {
      "cell_type": "code",
      "metadata": {
        "colab": {
          "base_uri": "https://localhost:8080/"
        },
        "id": "3xwAoMtjiscr",
        "outputId": "cf70e386-abf1-4a72-8d8a-49687b5cefba"
      },
      "source": [
        "%timeit rms_array(c)"
      ],
      "execution_count": null,
      "outputs": [
        {
          "output_type": "stream",
          "text": [
            "The slowest run took 13.77 times longer than the fastest. This could mean that an intermediate result is being cached.\n",
            "100000 loops, best of 5: 9.18 µs per loop\n"
          ],
          "name": "stdout"
        }
      ]
    }
  ]
}
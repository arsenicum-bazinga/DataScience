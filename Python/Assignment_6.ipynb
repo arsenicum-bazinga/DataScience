{
  "nbformat": 4,
  "nbformat_minor": 0,
  "metadata": {
    "colab": {
      "name": "Assignment_6.ipynb",
      "provenance": []
    },
    "kernelspec": {
      "name": "python3",
      "display_name": "Python 3"
    },
    "language_info": {
      "name": "python"
    }
  },
  "cells": [
    {
      "cell_type": "code",
      "metadata": {
        "id": "DWU3wgTWdm_O"
      },
      "source": [
        "import numpy as np\n",
        "import matplotlib.pyplot as plt"
      ],
      "execution_count": 1,
      "outputs": []
    },
    {
      "cell_type": "markdown",
      "metadata": {
        "id": "HVi_RxDyCZZY"
      },
      "source": [
        "#Abstract\n",
        "This assignment is studying one of two curve-fitting methods, namely least-squares regression. This method assumes that the entry data has some errors(or noise), therefore does not strives to fit every single data entry on a curve. The purpose of first part of this study was to compare different regression methods on a given dataset. In the end saturation-growth-rate equation fitted the data the best. In the second part of experiment linear regression was used to fit a function of two variables.\n",
        "\n",
        "#Introduction\n",
        "This assignment consists of 2 parts\n",
        "\n",
        "In Part 1 least-squares regression is used to fit a function of one variable using:\n",
        "* linear regression\n",
        "* power eqaution\n",
        "* saturation-growth-rate equation\n",
        "* parabolic equation\n",
        "\n",
        "Then results are graphed and compared with each other. \n",
        "\n",
        "Im Part 2 linear least-squares regression is used to fit a function of 2 variables, and obtain coefficients, standard error of estimate and correlation coefficient.\n",
        "\n",
        "#Methods\n",
        "For each method we need two quantities that define how well a method fits the data.\n",
        "\n",
        "First one is standard error of estimate:\n",
        "\n",
        "$$S_{y/x}=\\sqrt{\\frac{S_r}{n-2}}$$\n",
        "\n",
        "Where $S_r=\\sum_{i=1}^n(y_i-f(x_i))^2$ and $f(x)$ is a curve that fits the data and is derived using regression.\n",
        "\n",
        "Second one is coefficient of correlation:\n",
        "\n",
        "$$r=1-\\frac{S_r}{S_t}$$\n",
        "\n",
        "Where $S_t=\\sum_{i=1}^n (y-\\bar{y})^2$\n",
        "##Linear regression\n",
        "The goal of linear regression is to fit given data using straight line $y=a_0+a_1x$\n",
        "\n",
        "Those coefficients are given as:\n",
        "$$a_1=\\frac{n\\sum x_iy_i-\\sum x_i\\sum y_i}{n\\sum x_i^2-(\\sum x_i)^2}$$\n",
        "\n",
        "$$a_0=\\bar{y}-a_1\\bar{x}$$\n",
        "\n",
        "Where $\\bar{x}$ and $\\bar{y}$ are mean values of $x$ and $y$ respectively. "
      ]
    },
    {
      "cell_type": "code",
      "metadata": {
        "id": "zA1WTmZtHYIx"
      },
      "source": [
        "def linear(x,y):\n",
        "  n=len(x)\n",
        "  a1=(n*sum(x*y)-sum(x)*sum(y))/(n*sum(x**2)-sum(x)**2)\n",
        "  a0=1/n*(sum(y)-a1*sum(x))\n",
        "  sr=sum((y-a0-a1*x)**2)\n",
        "  std=np.sqrt(sr/(n-2))\n",
        "  mean=np.average(y)\n",
        "  st=sum((y-mean)**2)\n",
        "  r=np.sqrt(1-sr/st)\n",
        "  return a0+a1*x,std,r"
      ],
      "execution_count": 2,
      "outputs": []
    },
    {
      "cell_type": "markdown",
      "metadata": {
        "id": "bXcqOT8JHahS"
      },
      "source": [
        "##Power equation\n",
        "\n",
        "The curve we want to find is $y=\\alpha x^{\\beta}$\n",
        "After taking logarithm this is reduced to a linear regression that we know how to solve:\n",
        "\n",
        "$$\\tilde{y}=a_0+a_1\\tilde{x}$$\n",
        "\n",
        "Where $\\tilde{y}=ln(y)$,$a_0=ln(\\alpha)$,$a_1=\\beta$ and $\\tilde{x}=ln(x)$"
      ]
    },
    {
      "cell_type": "code",
      "metadata": {
        "id": "ikYY4hwIHbMS"
      },
      "source": [
        "def power(x,y):\n",
        "  n=len(x)\n",
        "  yt=np.log(y)\n",
        "  xt=np.log(x)\n",
        "  a1=(n*sum(xt*yt)-sum(xt)*sum(yt))/(n*sum(xt**2)-sum(xt)**2)\n",
        "  a0=1/n*(sum(yt)-a1*sum(xt))\n",
        "  alpha=np.exp(a0)\n",
        "  beta=a1\n",
        "  sr=sum((y-alpha*x**beta)**2)\n",
        "  std=np.sqrt(sr/(n-2))\n",
        "  mean=np.average(y)\n",
        "  st=sum((y-mean)**2)\n",
        "  r=np.sqrt(1-sr/st)\n",
        "  return alpha*x**beta,std,r"
      ],
      "execution_count": 3,
      "outputs": []
    },
    {
      "cell_type": "markdown",
      "metadata": {
        "id": "eWT5BohDJjHm"
      },
      "source": [
        "##Saturation-growth-rate equation\n",
        "This equation looks like $y=\\frac{\\alpha x}{\\beta+x}$\n",
        "It can also be expressed as a linear equation:\n",
        "$$\\tilde{y}=a_0+a_1\\tilde{x}$$\n",
        "\n",
        "Where $\\tilde{y}=1/y$, $\\tilde{x}=1/x$, $a_0=1/\\alpha$ and $a_1=\\frac{\\beta}{\\alpha}$"
      ]
    },
    {
      "cell_type": "code",
      "metadata": {
        "id": "zSNkC0TzJqLB"
      },
      "source": [
        "def saturation(x,y):\n",
        "  n=len(x)\n",
        "  yt=1/y\n",
        "  xt=1/x\n",
        "  a1=(n*sum(xt*yt)-sum(xt)*sum(yt))/(n*sum(xt**2)-sum(xt)**2)\n",
        "  a0=1/n*(sum(yt)-a1*sum(xt))\n",
        "  alpha=1/a0\n",
        "  beta=a1*alpha\n",
        "  sr=sum((y-alpha*x/(beta+x))**2)\n",
        "  std=np.sqrt(sr/(n-2))\n",
        "  mean=np.average(y)\n",
        "  st=sum((y-mean)**2)\n",
        "  r=np.sqrt(1-sr/st)\n",
        "  return alpha*x/(beta+x),std,r"
      ],
      "execution_count": 4,
      "outputs": []
    },
    {
      "cell_type": "markdown",
      "metadata": {
        "id": "v1niHaDZKjTm"
      },
      "source": [
        "##Parabolic equation\n",
        "\n",
        "This equation os similar to linear one, but has an additional coefficient: $y=a_0+a_1x+a_2x^2$\n",
        "\n",
        "In order to find coefficients we need to solve a linear system of equations:\n",
        "\n",
        "$$\n",
        "\\begin{gather}\n",
        "\\begin{bmatrix}\n",
        "n & \\sum x_i & \\sum x_i^2\\\\\n",
        "\\sum x_i & \\sum x_i^2 & \\sum x_i^3\\\\\n",
        "\\sum x_i^2 & \\sum x_i^3 & \\sum x_i^4\n",
        "\\end{bmatrix}\n",
        "\\begin{bmatrix}\n",
        "a_0\\\\\n",
        "a_1\\\\\n",
        "a_2\n",
        "\\end{bmatrix}=\n",
        "\\begin{bmatrix}\n",
        "\\sum y_i\\\\\n",
        "\\sum x_iy_i\\\\\n",
        "\\sum x_i^2y_i\n",
        "\\end{bmatrix}\n",
        "\\end{gather}\n",
        "$$"
      ]
    },
    {
      "cell_type": "code",
      "metadata": {
        "id": "EVp-1dn3KjxS"
      },
      "source": [
        "def parabolic(x,y):\n",
        "  n=len(x)\n",
        "  A=np.zeros((3,3))\n",
        "  A[0,0]=n\n",
        "  A[0,1]=sum(x)\n",
        "  A[1,0]=A[0,1]\n",
        "  A[0,2]=sum(x**2)\n",
        "  A[2,0]=A[0,2]\n",
        "  A[1,1]=A[0,2]\n",
        "  A[1,2]=sum(x**3)\n",
        "  A[2,1]=A[1,2]\n",
        "  A[2,2]=sum(x**4)\n",
        "  b=np.zeros(3)\n",
        "  b[0]=np.sum(y)\n",
        "  b[1]=np.sum(x*y)\n",
        "  b[2]=np.sum(x**2*y)\n",
        "  a=np.linalg.solve(A,b)\n",
        "  sr=sum((y-a[0]-a[1]*x-a[2]*x**2)**2)\n",
        "  std=np.sqrt(sr/(n-3))\n",
        "  mean=np.average(y)\n",
        "  st=sum((y-mean)**2)\n",
        "  r=np.sqrt(1-sr/st)\n",
        "  return a[0]+a[1]*x+a[2]*x**2,std,r"
      ],
      "execution_count": 5,
      "outputs": []
    },
    {
      "cell_type": "markdown",
      "metadata": {
        "id": "MbpXvw1DMQWc"
      },
      "source": [
        "##Multiple linear regression\n",
        "\n",
        "This is the method for part 2. We need to fit a plane using equation: $y=a_0+a_1x_1+a_2x_2$. This method is similar to previous one, where we also need to solve a system of linear equations: \n",
        "\n",
        "$$\n",
        "\\begin{gather}\n",
        "\\begin{bmatrix}\n",
        "n & \\sum x_{1i} & \\sum x_{2i}\\\\\n",
        "\\sum x_{1i} & \\sum x_{1i}^2 & \\sum x_{1i}x_{2i}\\\\\n",
        "\\sum x_{2i} & \\sum x_{1i}x_{2i} & \\sum x_{2i}^2\n",
        "\\end{bmatrix}\n",
        "\\begin{bmatrix}\n",
        "a_0\\\\\n",
        "a_1\\\\\n",
        "a_2\n",
        "\\end{bmatrix}=\n",
        "\\begin{bmatrix}\n",
        "\\sum y_i\\\\\n",
        "\\sum x_{1_i}y_i\\\\\n",
        "\\sum x_{2_i}y_i\n",
        "\\end{bmatrix}\n",
        "\\end{gather}\n",
        "$$"
      ]
    },
    {
      "cell_type": "code",
      "metadata": {
        "id": "PDzjdb_tenUi"
      },
      "source": [
        "def multiple(x1,x2,y):\n",
        "  n=len(y)\n",
        "  A=np.zeros((3,3))\n",
        "  A[0,0]=n\n",
        "  A[0,1]=sum(x1)\n",
        "  A[1,0]=A[0,1]\n",
        "  A[0,2]=sum(x2)\n",
        "  A[2,0]=A[0,2]\n",
        "  A[1,1]=sum(x1**2)\n",
        "  A[1,2]=sum(x1*x2)\n",
        "  A[2,1]=A[1,2]\n",
        "  A[2,2]=sum(x2**2)\n",
        "  b=np.zeros(3)\n",
        "  b[0]=np.sum(y)\n",
        "  b[1]=np.sum(x1*y)\n",
        "  b[2]=np.sum(x2*y)\n",
        "  a=np.linalg.solve(A,b)\n",
        "  ymean=np.average(y)\n",
        "  sr=sum((y-a[0]-a[1]*x1-a[2]*x2)**2)\n",
        "  std=np.sqrt(sr/(n-3))\n",
        "  st=sum((y-ymean)**2)\n",
        "  r=np.sqrt(1-sr/st)\n",
        "  return a,std,r"
      ],
      "execution_count": 6,
      "outputs": []
    },
    {
      "cell_type": "markdown",
      "metadata": {
        "id": "nMs4auJrNCYX"
      },
      "source": [
        "#Results\n",
        "##Part 1\n",
        "\n",
        "\n"
      ]
    },
    {
      "cell_type": "code",
      "metadata": {
        "id": "A03O6ezUd2dD"
      },
      "source": [
        "x=np.array([5,10,15,20,25,30,35,40,45,50])\n",
        "y1=np.array([17,24,31,33,37,37,40,40,42,41])"
      ],
      "execution_count": 7,
      "outputs": []
    },
    {
      "cell_type": "code",
      "metadata": {
        "colab": {
          "base_uri": "https://localhost:8080/"
        },
        "id": "1AP4v3fIemEm",
        "outputId": "33bd5271-f15a-4742-9614-236c43aee8ce"
      },
      "source": [
        "lin_reg,lin_std,lin_r=linear(x,y1)\n",
        "print(lin_std,lin_r)"
      ],
      "execution_count": 8,
      "outputs": [
        {
          "output_type": "stream",
          "name": "stdout",
          "text": [
            "3.485032933195115 0.9156917035433402\n"
          ]
        }
      ]
    },
    {
      "cell_type": "code",
      "metadata": {
        "colab": {
          "base_uri": "https://localhost:8080/"
        },
        "id": "-RmnLGvQnzS-",
        "outputId": "718f16ba-5b3a-40f2-9c27-e5127656383d"
      },
      "source": [
        "pow_reg,pow_std,pow_r=power(x,y1)\n",
        "print(pow_std,pow_r)"
      ],
      "execution_count": 9,
      "outputs": [
        {
          "output_type": "stream",
          "name": "stdout",
          "text": [
            "2.164475337933126 0.9683491553096023\n"
          ]
        }
      ]
    },
    {
      "cell_type": "code",
      "metadata": {
        "colab": {
          "base_uri": "https://localhost:8080/"
        },
        "id": "bwoRPbu6qqrw",
        "outputId": "2734cf25-0c3d-4faa-860c-604c660aa363"
      },
      "source": [
        "sat_reg,sat_std,sat_r=saturation(x,y1)\n",
        "print(sat_std,sat_r)"
      ],
      "execution_count": 10,
      "outputs": [
        {
          "output_type": "stream",
          "name": "stdout",
          "text": [
            "0.9016015125423504 0.9945804920771856\n"
          ]
        }
      ]
    },
    {
      "cell_type": "code",
      "metadata": {
        "colab": {
          "base_uri": "https://localhost:8080/"
        },
        "id": "xUtFd9QMzIlK",
        "outputId": "18e52a92-9fa0-42d5-e7f8-398dc6e5f21b"
      },
      "source": [
        "par_reg,par_std,par_r=parabolic(x,y1)\n",
        "print(par_std,par_r)"
      ],
      "execution_count": 11,
      "outputs": [
        {
          "output_type": "stream",
          "name": "stdout",
          "text": [
            "1.3116197316090972 0.989940741897905\n"
          ]
        }
      ]
    },
    {
      "cell_type": "code",
      "metadata": {
        "colab": {
          "base_uri": "https://localhost:8080/",
          "height": 279
        },
        "id": "1oG9OPEJeL0i",
        "outputId": "a919549f-ba80-4b41-89fb-7889e30096ea"
      },
      "source": [
        "plt.scatter(x,y1)\n",
        "plt.xlabel('x')\n",
        "plt.ylabel('y')\n",
        "plt.plot(x,lin_reg,label='linear')\n",
        "plt.plot(x,pow_reg,label='power ')\n",
        "plt.plot(x,sat_reg,label='saturation')\n",
        "plt.plot(x,par_reg,label='parabolic')\n",
        "plt.grid()\n",
        "plt.legend()\n",
        "plt.show()"
      ],
      "execution_count": 12,
      "outputs": [
        {
          "output_type": "display_data",
          "data": {
            "image/png": "[encoded data removed]",
            "text/plain": [
              "<Figure size 432x288 with 1 Axes>"
            ]
          },
          "metadata": {
            "needs_background": "light"
          }
        }
      ]
    },
    {
      "cell_type": "markdown",
      "metadata": {
        "id": "7ZZyYYOlOkHn"
      },
      "source": [
        "Regression type  | Standard error of estimate, $S_{y/x}$| Coefficient of correlation, $r$\n",
        "-------------------|------------------|--------\n",
        "Linear       | 3.485 |0.916\n",
        "Power       | 2.164 |0.968\n",
        "Saturation-growth-rate|0.902|0.995\n",
        "Parabolic|1.312|0.990\n",
        "\n",
        "Saturation-growth-rate model delivers the least standard error of estimate and the highest coefficient of correlation, therefore out of the 4 methods it fits given data the best. From the scatter plot we can see that the distribution grows up to a certain point and then doesn't change. Saturation-growth-model is good for describing such cases.\n",
        "\n",
        "##Part 2\n",
        "From the results we can say that linear model gives a very good fit to this data"
      ]
    },
    {
      "cell_type": "code",
      "metadata": {
        "colab": {
          "base_uri": "https://localhost:8080/"
        },
        "id": "qkOE6B2F-vS-",
        "outputId": "d42ea246-cd93-4b5c-eedd-1bfa19e128c7"
      },
      "source": [
        "x1=np.array([0,1,1,2,2,3,3,4,4])\n",
        "x2=np.array([0,1,2,1,2,1,2,1,2])\n",
        "y2=np.array([15.1,17.9,12.7,25.6,20.5,35.1,29.7,45.4,40.2])\n",
        "a,std,r=multiple(x1,x2,y2)\n",
        "print(\"coefficients:\")\n",
        "print(\"a_0=\",a[0])\n",
        "print(\"a_1=\",a[1])\n",
        "print(\"a_2=\",a[2])\n",
        "print(\"standard error of estimate=\",std)\n",
        "print(\"correlation coefficient=\",r)"
      ],
      "execution_count": 15,
      "outputs": [
        {
          "output_type": "stream",
          "name": "stdout",
          "text": [
            "coefficients:\n",
            "a_0= 14.460869565217383\n",
            "a_1= 9.025217391304354\n",
            "a_2= -5.704347826086963\n",
            "standard error of estimate= 0.8887868298897703\n",
            "correlation coefficient= 0.9977591624531913\n"
          ]
        }
      ]
    },
    {
      "cell_type": "markdown",
      "metadata": {
        "id": "HUgk6WEEPEQG"
      },
      "source": [
        "#Conclusion\n",
        "Even though saturation-growth-rate model gave the best estimate, parabolic equation was not very far from it. If several further data points were known, and, for example we realize that the function is decreasing, than parabolic equation should give a better fit. Also, maybe for this method equations with more parameters(i.e. higher order polynomials) could provide a better fit.\n",
        "\n",
        "#References\n",
        "\n",
        "https://www.youtube.com/watch?v=HdZ3RuAioww\n",
        "https://www.youtube.com/watch?v=ZA5QAIjP_14"
      ]
    }
  ]
}